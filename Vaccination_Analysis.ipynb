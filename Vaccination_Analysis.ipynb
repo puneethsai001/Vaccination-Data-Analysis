{
 "cells": [
  {
   "metadata": {},
   "cell_type": "markdown",
   "source": "# Project Name: Vaccination Analysis",
   "id": "2c0cbb0f56530883"
  },
  {
   "metadata": {},
   "cell_type": "markdown",
   "source": [
    "##### **Project Type**    - Data Analysis\n",
    "##### **Contribution**    - Individual\n",
    "##### **Member       - Puneeth Sai Satvik**"
   ],
   "id": "ec30ce7829f51a3"
  },
  {
   "metadata": {},
   "cell_type": "markdown",
   "source": "### Project Summary",
   "id": "477e68bd8fb6fb06"
  },
  {
   "metadata": {},
   "cell_type": "markdown",
   "source": "",
   "id": "38fac0ec7e87d295"
  },
  {
   "metadata": {},
   "cell_type": "markdown",
   "source": "### GitHub Link",
   "id": "16e0202ebc07462c"
  },
  {
   "metadata": {},
   "cell_type": "markdown",
   "source": "",
   "id": "4fa387b5f3918178"
  },
  {
   "metadata": {},
   "cell_type": "markdown",
   "source": "### Data Cleaning",
   "id": "bbeb048b0ffeeb69"
  },
  {
   "metadata": {
    "ExecuteTime": {
     "end_time": "2025-08-29T18:23:21.574490Z",
     "start_time": "2025-08-29T18:23:21.565693Z"
    }
   },
   "cell_type": "code",
   "source": [
    "# Essential Imports\n",
    "import pandas as pd\n",
    "import mysql.connector\n",
    "from mysql.connector import Error"
   ],
   "id": "85d5c3b1501d7505",
   "outputs": [],
   "execution_count": 60
  },
  {
   "metadata": {
    "ExecuteTime": {
     "end_time": "2025-08-29T16:52:31.183100Z",
     "start_time": "2025-08-29T16:51:51.685038Z"
    }
   },
   "cell_type": "code",
   "source": [
    "# Loading the data\n",
    "coverage_df = pd.read_excel('coverage-data.xlsx')\n",
    "incidence_rate_df = pd.read_excel('incidence-rate-data.xlsx')\n",
    "reported_cases_df = pd.read_excel('reported-cases-data.xlsx')\n",
    "vaccine_introduction_df = pd.read_excel('vaccine-introduction-data.xlsx')\n",
    "vaccine_schedule_df = pd.read_excel('vaccine-schedule-data.xlsx')"
   ],
   "id": "1ea3af676d73f394",
   "outputs": [],
   "execution_count": 3
  },
  {
   "metadata": {},
   "cell_type": "markdown",
   "source": "#### Dataset First View",
   "id": "de15fb5c37ee0868"
  },
  {
   "metadata": {
    "ExecuteTime": {
     "end_time": "2025-08-29T16:52:31.202348Z",
     "start_time": "2025-08-29T16:52:31.190478Z"
    }
   },
   "cell_type": "code",
   "source": "coverage_df.head()",
   "id": "8f70397684cb214d",
   "outputs": [
    {
     "data": {
      "text/plain": [
       "       GROUP CODE   NAME    YEAR  ANTIGEN  \\\n",
       "0  COUNTRIES  ABW  Aruba  2023.0      BCG   \n",
       "1  COUNTRIES  ABW  Aruba  2023.0      BCG   \n",
       "2  COUNTRIES  ABW  Aruba  2023.0  DIPHCV4   \n",
       "3  COUNTRIES  ABW  Aruba  2023.0  DIPHCV4   \n",
       "4  COUNTRIES  ABW  Aruba  2023.0  DIPHCV5   \n",
       "\n",
       "                                 ANTIGEN_DESCRIPTION COVERAGE_CATEGORY  \\\n",
       "0                                                BCG             ADMIN   \n",
       "1                                                BCG          OFFICIAL   \n",
       "2  Diphtheria-containing vaccine, 4th dose (1st b...             ADMIN   \n",
       "3  Diphtheria-containing vaccine, 4th dose (1st b...          OFFICIAL   \n",
       "4  Diphtheria-containing vaccine, 5th dose (2nd b...             ADMIN   \n",
       "\n",
       "  COVERAGE_CATEGORY_DESCRIPTION  TARGET_NUMBER   DOSES  COVERAGE  \n",
       "0       Administrative coverage            NaN     NaN       NaN  \n",
       "1             Official coverage            NaN     NaN       NaN  \n",
       "2       Administrative coverage         1044.0   945.0     90.52  \n",
       "3             Official coverage            NaN     NaN     90.52  \n",
       "4       Administrative coverage         1219.0  1008.0     82.69  "
      ],
      "text/html": [
       "<div>\n",
       "<style scoped>\n",
       "    .dataframe tbody tr th:only-of-type {\n",
       "        vertical-align: middle;\n",
       "    }\n",
       "\n",
       "    .dataframe tbody tr th {\n",
       "        vertical-align: top;\n",
       "    }\n",
       "\n",
       "    .dataframe thead th {\n",
       "        text-align: right;\n",
       "    }\n",
       "</style>\n",
       "<table border=\"1\" class=\"dataframe\">\n",
       "  <thead>\n",
       "    <tr style=\"text-align: right;\">\n",
       "      <th></th>\n",
       "      <th>GROUP</th>\n",
       "      <th>CODE</th>\n",
       "      <th>NAME</th>\n",
       "      <th>YEAR</th>\n",
       "      <th>ANTIGEN</th>\n",
       "      <th>ANTIGEN_DESCRIPTION</th>\n",
       "      <th>COVERAGE_CATEGORY</th>\n",
       "      <th>COVERAGE_CATEGORY_DESCRIPTION</th>\n",
       "      <th>TARGET_NUMBER</th>\n",
       "      <th>DOSES</th>\n",
       "      <th>COVERAGE</th>\n",
       "    </tr>\n",
       "  </thead>\n",
       "  <tbody>\n",
       "    <tr>\n",
       "      <th>0</th>\n",
       "      <td>COUNTRIES</td>\n",
       "      <td>ABW</td>\n",
       "      <td>Aruba</td>\n",
       "      <td>2023.0</td>\n",
       "      <td>BCG</td>\n",
       "      <td>BCG</td>\n",
       "      <td>ADMIN</td>\n",
       "      <td>Administrative coverage</td>\n",
       "      <td>NaN</td>\n",
       "      <td>NaN</td>\n",
       "      <td>NaN</td>\n",
       "    </tr>\n",
       "    <tr>\n",
       "      <th>1</th>\n",
       "      <td>COUNTRIES</td>\n",
       "      <td>ABW</td>\n",
       "      <td>Aruba</td>\n",
       "      <td>2023.0</td>\n",
       "      <td>BCG</td>\n",
       "      <td>BCG</td>\n",
       "      <td>OFFICIAL</td>\n",
       "      <td>Official coverage</td>\n",
       "      <td>NaN</td>\n",
       "      <td>NaN</td>\n",
       "      <td>NaN</td>\n",
       "    </tr>\n",
       "    <tr>\n",
       "      <th>2</th>\n",
       "      <td>COUNTRIES</td>\n",
       "      <td>ABW</td>\n",
       "      <td>Aruba</td>\n",
       "      <td>2023.0</td>\n",
       "      <td>DIPHCV4</td>\n",
       "      <td>Diphtheria-containing vaccine, 4th dose (1st b...</td>\n",
       "      <td>ADMIN</td>\n",
       "      <td>Administrative coverage</td>\n",
       "      <td>1044.0</td>\n",
       "      <td>945.0</td>\n",
       "      <td>90.52</td>\n",
       "    </tr>\n",
       "    <tr>\n",
       "      <th>3</th>\n",
       "      <td>COUNTRIES</td>\n",
       "      <td>ABW</td>\n",
       "      <td>Aruba</td>\n",
       "      <td>2023.0</td>\n",
       "      <td>DIPHCV4</td>\n",
       "      <td>Diphtheria-containing vaccine, 4th dose (1st b...</td>\n",
       "      <td>OFFICIAL</td>\n",
       "      <td>Official coverage</td>\n",
       "      <td>NaN</td>\n",
       "      <td>NaN</td>\n",
       "      <td>90.52</td>\n",
       "    </tr>\n",
       "    <tr>\n",
       "      <th>4</th>\n",
       "      <td>COUNTRIES</td>\n",
       "      <td>ABW</td>\n",
       "      <td>Aruba</td>\n",
       "      <td>2023.0</td>\n",
       "      <td>DIPHCV5</td>\n",
       "      <td>Diphtheria-containing vaccine, 5th dose (2nd b...</td>\n",
       "      <td>ADMIN</td>\n",
       "      <td>Administrative coverage</td>\n",
       "      <td>1219.0</td>\n",
       "      <td>1008.0</td>\n",
       "      <td>82.69</td>\n",
       "    </tr>\n",
       "  </tbody>\n",
       "</table>\n",
       "</div>"
      ]
     },
     "execution_count": 4,
     "metadata": {},
     "output_type": "execute_result"
    }
   ],
   "execution_count": 4
  },
  {
   "metadata": {
    "ExecuteTime": {
     "end_time": "2025-08-29T16:52:31.214680Z",
     "start_time": "2025-08-29T16:52:31.209119Z"
    }
   },
   "cell_type": "code",
   "source": "incidence_rate_df.head()",
   "id": "193152fd36bb89c8",
   "outputs": [
    {
     "data": {
      "text/plain": [
       "       GROUP CODE   NAME    YEAR          DISEASE  \\\n",
       "0  COUNTRIES  ABW  Aruba  2023.0              CRS   \n",
       "1  COUNTRIES  ABW  Aruba  2023.0       DIPHTHERIA   \n",
       "2  COUNTRIES  ABW  Aruba  2023.0  INVASIVE_MENING   \n",
       "3  COUNTRIES  ABW  Aruba  2023.0          MEASLES   \n",
       "4  COUNTRIES  ABW  Aruba  2023.0            MUMPS   \n",
       "\n",
       "              DISEASE_DESCRIPTION                     DENOMINATOR  \\\n",
       "0     Congenital rubella syndrome          per 10,000 live births   \n",
       "1                      Diphtheria  per 1,000,000 total population   \n",
       "2  Invasive meningococcal disease  per 1,000,000 total population   \n",
       "3                         Measles  per 1,000,000 total population   \n",
       "4                           Mumps  per 1,000,000 total population   \n",
       "\n",
       "   INCIDENCE_RATE  \n",
       "0             0.0  \n",
       "1             0.0  \n",
       "2             9.3  \n",
       "3             NaN  \n",
       "4             0.0  "
      ],
      "text/html": [
       "<div>\n",
       "<style scoped>\n",
       "    .dataframe tbody tr th:only-of-type {\n",
       "        vertical-align: middle;\n",
       "    }\n",
       "\n",
       "    .dataframe tbody tr th {\n",
       "        vertical-align: top;\n",
       "    }\n",
       "\n",
       "    .dataframe thead th {\n",
       "        text-align: right;\n",
       "    }\n",
       "</style>\n",
       "<table border=\"1\" class=\"dataframe\">\n",
       "  <thead>\n",
       "    <tr style=\"text-align: right;\">\n",
       "      <th></th>\n",
       "      <th>GROUP</th>\n",
       "      <th>CODE</th>\n",
       "      <th>NAME</th>\n",
       "      <th>YEAR</th>\n",
       "      <th>DISEASE</th>\n",
       "      <th>DISEASE_DESCRIPTION</th>\n",
       "      <th>DENOMINATOR</th>\n",
       "      <th>INCIDENCE_RATE</th>\n",
       "    </tr>\n",
       "  </thead>\n",
       "  <tbody>\n",
       "    <tr>\n",
       "      <th>0</th>\n",
       "      <td>COUNTRIES</td>\n",
       "      <td>ABW</td>\n",
       "      <td>Aruba</td>\n",
       "      <td>2023.0</td>\n",
       "      <td>CRS</td>\n",
       "      <td>Congenital rubella syndrome</td>\n",
       "      <td>per 10,000 live births</td>\n",
       "      <td>0.0</td>\n",
       "    </tr>\n",
       "    <tr>\n",
       "      <th>1</th>\n",
       "      <td>COUNTRIES</td>\n",
       "      <td>ABW</td>\n",
       "      <td>Aruba</td>\n",
       "      <td>2023.0</td>\n",
       "      <td>DIPHTHERIA</td>\n",
       "      <td>Diphtheria</td>\n",
       "      <td>per 1,000,000 total population</td>\n",
       "      <td>0.0</td>\n",
       "    </tr>\n",
       "    <tr>\n",
       "      <th>2</th>\n",
       "      <td>COUNTRIES</td>\n",
       "      <td>ABW</td>\n",
       "      <td>Aruba</td>\n",
       "      <td>2023.0</td>\n",
       "      <td>INVASIVE_MENING</td>\n",
       "      <td>Invasive meningococcal disease</td>\n",
       "      <td>per 1,000,000 total population</td>\n",
       "      <td>9.3</td>\n",
       "    </tr>\n",
       "    <tr>\n",
       "      <th>3</th>\n",
       "      <td>COUNTRIES</td>\n",
       "      <td>ABW</td>\n",
       "      <td>Aruba</td>\n",
       "      <td>2023.0</td>\n",
       "      <td>MEASLES</td>\n",
       "      <td>Measles</td>\n",
       "      <td>per 1,000,000 total population</td>\n",
       "      <td>NaN</td>\n",
       "    </tr>\n",
       "    <tr>\n",
       "      <th>4</th>\n",
       "      <td>COUNTRIES</td>\n",
       "      <td>ABW</td>\n",
       "      <td>Aruba</td>\n",
       "      <td>2023.0</td>\n",
       "      <td>MUMPS</td>\n",
       "      <td>Mumps</td>\n",
       "      <td>per 1,000,000 total population</td>\n",
       "      <td>0.0</td>\n",
       "    </tr>\n",
       "  </tbody>\n",
       "</table>\n",
       "</div>"
      ]
     },
     "execution_count": 5,
     "metadata": {},
     "output_type": "execute_result"
    }
   ],
   "execution_count": 5
  },
  {
   "metadata": {
    "ExecuteTime": {
     "end_time": "2025-08-29T16:52:31.225311Z",
     "start_time": "2025-08-29T16:52:31.219882Z"
    }
   },
   "cell_type": "code",
   "source": "reported_cases_df.head()",
   "id": "b335366030d53323",
   "outputs": [
    {
     "data": {
      "text/plain": [
       "       GROUP CODE   NAME    YEAR          DISEASE  \\\n",
       "0  COUNTRIES  ABW  Aruba  2023.0              CRS   \n",
       "1  COUNTRIES  ABW  Aruba  2023.0       DIPHTHERIA   \n",
       "2  COUNTRIES  ABW  Aruba  2023.0  INVASIVE_MENING   \n",
       "3  COUNTRIES  ABW  Aruba  2023.0          MEASLES   \n",
       "4  COUNTRIES  ABW  Aruba  2023.0            MUMPS   \n",
       "\n",
       "              DISEASE_DESCRIPTION  CASES  \n",
       "0     Congenital rubella syndrome    0.0  \n",
       "1                      Diphtheria    0.0  \n",
       "2  Invasive meningococcal disease    1.0  \n",
       "3                         Measles    NaN  \n",
       "4                           Mumps    0.0  "
      ],
      "text/html": [
       "<div>\n",
       "<style scoped>\n",
       "    .dataframe tbody tr th:only-of-type {\n",
       "        vertical-align: middle;\n",
       "    }\n",
       "\n",
       "    .dataframe tbody tr th {\n",
       "        vertical-align: top;\n",
       "    }\n",
       "\n",
       "    .dataframe thead th {\n",
       "        text-align: right;\n",
       "    }\n",
       "</style>\n",
       "<table border=\"1\" class=\"dataframe\">\n",
       "  <thead>\n",
       "    <tr style=\"text-align: right;\">\n",
       "      <th></th>\n",
       "      <th>GROUP</th>\n",
       "      <th>CODE</th>\n",
       "      <th>NAME</th>\n",
       "      <th>YEAR</th>\n",
       "      <th>DISEASE</th>\n",
       "      <th>DISEASE_DESCRIPTION</th>\n",
       "      <th>CASES</th>\n",
       "    </tr>\n",
       "  </thead>\n",
       "  <tbody>\n",
       "    <tr>\n",
       "      <th>0</th>\n",
       "      <td>COUNTRIES</td>\n",
       "      <td>ABW</td>\n",
       "      <td>Aruba</td>\n",
       "      <td>2023.0</td>\n",
       "      <td>CRS</td>\n",
       "      <td>Congenital rubella syndrome</td>\n",
       "      <td>0.0</td>\n",
       "    </tr>\n",
       "    <tr>\n",
       "      <th>1</th>\n",
       "      <td>COUNTRIES</td>\n",
       "      <td>ABW</td>\n",
       "      <td>Aruba</td>\n",
       "      <td>2023.0</td>\n",
       "      <td>DIPHTHERIA</td>\n",
       "      <td>Diphtheria</td>\n",
       "      <td>0.0</td>\n",
       "    </tr>\n",
       "    <tr>\n",
       "      <th>2</th>\n",
       "      <td>COUNTRIES</td>\n",
       "      <td>ABW</td>\n",
       "      <td>Aruba</td>\n",
       "      <td>2023.0</td>\n",
       "      <td>INVASIVE_MENING</td>\n",
       "      <td>Invasive meningococcal disease</td>\n",
       "      <td>1.0</td>\n",
       "    </tr>\n",
       "    <tr>\n",
       "      <th>3</th>\n",
       "      <td>COUNTRIES</td>\n",
       "      <td>ABW</td>\n",
       "      <td>Aruba</td>\n",
       "      <td>2023.0</td>\n",
       "      <td>MEASLES</td>\n",
       "      <td>Measles</td>\n",
       "      <td>NaN</td>\n",
       "    </tr>\n",
       "    <tr>\n",
       "      <th>4</th>\n",
       "      <td>COUNTRIES</td>\n",
       "      <td>ABW</td>\n",
       "      <td>Aruba</td>\n",
       "      <td>2023.0</td>\n",
       "      <td>MUMPS</td>\n",
       "      <td>Mumps</td>\n",
       "      <td>0.0</td>\n",
       "    </tr>\n",
       "  </tbody>\n",
       "</table>\n",
       "</div>"
      ]
     },
     "execution_count": 6,
     "metadata": {},
     "output_type": "execute_result"
    }
   ],
   "execution_count": 6
  },
  {
   "metadata": {
    "ExecuteTime": {
     "end_time": "2025-08-29T16:52:31.239040Z",
     "start_time": "2025-08-29T16:52:31.234359Z"
    }
   },
   "cell_type": "code",
   "source": "vaccine_introduction_df.head()",
   "id": "c0b75ddb6d6882e2",
   "outputs": [
    {
     "data": {
      "text/plain": [
       "  ISO_3_CODE  COUNTRYNAME WHO_REGION    YEAR  \\\n",
       "0        AFG  Afghanistan       EMRO  2023.0   \n",
       "1        AFG  Afghanistan       EMRO  2023.0   \n",
       "2        AFG  Afghanistan       EMRO  2023.0   \n",
       "3        AFG  Afghanistan       EMRO  2023.0   \n",
       "4        AFG  Afghanistan       EMRO  2023.0   \n",
       "\n",
       "                                   DESCRIPTION INTRO  \n",
       "0             aP (acellular pertussis) vaccine    No  \n",
       "1                          Hepatitis A vaccine    No  \n",
       "2                          Hepatitis B vaccine   Yes  \n",
       "3                              HepB birth dose   Yes  \n",
       "4  Hib (Haemophilus influenzae type B) vaccine   Yes  "
      ],
      "text/html": [
       "<div>\n",
       "<style scoped>\n",
       "    .dataframe tbody tr th:only-of-type {\n",
       "        vertical-align: middle;\n",
       "    }\n",
       "\n",
       "    .dataframe tbody tr th {\n",
       "        vertical-align: top;\n",
       "    }\n",
       "\n",
       "    .dataframe thead th {\n",
       "        text-align: right;\n",
       "    }\n",
       "</style>\n",
       "<table border=\"1\" class=\"dataframe\">\n",
       "  <thead>\n",
       "    <tr style=\"text-align: right;\">\n",
       "      <th></th>\n",
       "      <th>ISO_3_CODE</th>\n",
       "      <th>COUNTRYNAME</th>\n",
       "      <th>WHO_REGION</th>\n",
       "      <th>YEAR</th>\n",
       "      <th>DESCRIPTION</th>\n",
       "      <th>INTRO</th>\n",
       "    </tr>\n",
       "  </thead>\n",
       "  <tbody>\n",
       "    <tr>\n",
       "      <th>0</th>\n",
       "      <td>AFG</td>\n",
       "      <td>Afghanistan</td>\n",
       "      <td>EMRO</td>\n",
       "      <td>2023.0</td>\n",
       "      <td>aP (acellular pertussis) vaccine</td>\n",
       "      <td>No</td>\n",
       "    </tr>\n",
       "    <tr>\n",
       "      <th>1</th>\n",
       "      <td>AFG</td>\n",
       "      <td>Afghanistan</td>\n",
       "      <td>EMRO</td>\n",
       "      <td>2023.0</td>\n",
       "      <td>Hepatitis A vaccine</td>\n",
       "      <td>No</td>\n",
       "    </tr>\n",
       "    <tr>\n",
       "      <th>2</th>\n",
       "      <td>AFG</td>\n",
       "      <td>Afghanistan</td>\n",
       "      <td>EMRO</td>\n",
       "      <td>2023.0</td>\n",
       "      <td>Hepatitis B vaccine</td>\n",
       "      <td>Yes</td>\n",
       "    </tr>\n",
       "    <tr>\n",
       "      <th>3</th>\n",
       "      <td>AFG</td>\n",
       "      <td>Afghanistan</td>\n",
       "      <td>EMRO</td>\n",
       "      <td>2023.0</td>\n",
       "      <td>HepB birth dose</td>\n",
       "      <td>Yes</td>\n",
       "    </tr>\n",
       "    <tr>\n",
       "      <th>4</th>\n",
       "      <td>AFG</td>\n",
       "      <td>Afghanistan</td>\n",
       "      <td>EMRO</td>\n",
       "      <td>2023.0</td>\n",
       "      <td>Hib (Haemophilus influenzae type B) vaccine</td>\n",
       "      <td>Yes</td>\n",
       "    </tr>\n",
       "  </tbody>\n",
       "</table>\n",
       "</div>"
      ]
     },
     "execution_count": 7,
     "metadata": {},
     "output_type": "execute_result"
    }
   ],
   "execution_count": 7
  },
  {
   "metadata": {
    "ExecuteTime": {
     "end_time": "2025-08-29T16:52:31.249212Z",
     "start_time": "2025-08-29T16:52:31.243392Z"
    }
   },
   "cell_type": "code",
   "source": "vaccine_schedule_df.head()",
   "id": "45fe6cd7391bb1c4",
   "outputs": [
    {
     "data": {
      "text/plain": [
       "  ISO_3_CODE COUNTRYNAME WHO_REGION    YEAR VACCINECODE  \\\n",
       "0        ABW       Aruba       AMRO  2023.0  DTAPHIBIPV   \n",
       "1        ABW       Aruba       AMRO  2023.0  DTAPHIBIPV   \n",
       "2        ABW       Aruba       AMRO  2023.0  DTAPHIBIPV   \n",
       "3        ABW       Aruba       AMRO  2023.0  DTAPHIBIPV   \n",
       "4        ABW       Aruba       AMRO  2023.0     DTAPIPV   \n",
       "\n",
       "                VACCINE_DESCRIPTION  SCHEDULEROUNDS  TARGETPOP  \\\n",
       "0  DTaP-Hib-IPV (acellular) vaccine             1.0        NaN   \n",
       "1  DTaP-Hib-IPV (acellular) vaccine             2.0        NaN   \n",
       "2  DTaP-Hib-IPV (acellular) vaccine             3.0        NaN   \n",
       "3  DTaP-Hib-IPV (acellular) vaccine             4.0    B_2YL_W   \n",
       "4      DTaP-IPV (acellular) vaccine             5.0  B_CHILD_W   \n",
       "\n",
       "  TARGETPOP_DESCRIPTION   GEOAREA AGEADMINISTERED SOURCECOMMENT  \n",
       "0       General/routine  NATIONAL              M2           NaN  \n",
       "1       General/routine  NATIONAL              M4           NaN  \n",
       "2       General/routine  NATIONAL              M6           NaN  \n",
       "3       General/routine  NATIONAL             M15           NaN  \n",
       "4       General/routine  NATIONAL              Y4           NaN  "
      ],
      "text/html": [
       "<div>\n",
       "<style scoped>\n",
       "    .dataframe tbody tr th:only-of-type {\n",
       "        vertical-align: middle;\n",
       "    }\n",
       "\n",
       "    .dataframe tbody tr th {\n",
       "        vertical-align: top;\n",
       "    }\n",
       "\n",
       "    .dataframe thead th {\n",
       "        text-align: right;\n",
       "    }\n",
       "</style>\n",
       "<table border=\"1\" class=\"dataframe\">\n",
       "  <thead>\n",
       "    <tr style=\"text-align: right;\">\n",
       "      <th></th>\n",
       "      <th>ISO_3_CODE</th>\n",
       "      <th>COUNTRYNAME</th>\n",
       "      <th>WHO_REGION</th>\n",
       "      <th>YEAR</th>\n",
       "      <th>VACCINECODE</th>\n",
       "      <th>VACCINE_DESCRIPTION</th>\n",
       "      <th>SCHEDULEROUNDS</th>\n",
       "      <th>TARGETPOP</th>\n",
       "      <th>TARGETPOP_DESCRIPTION</th>\n",
       "      <th>GEOAREA</th>\n",
       "      <th>AGEADMINISTERED</th>\n",
       "      <th>SOURCECOMMENT</th>\n",
       "    </tr>\n",
       "  </thead>\n",
       "  <tbody>\n",
       "    <tr>\n",
       "      <th>0</th>\n",
       "      <td>ABW</td>\n",
       "      <td>Aruba</td>\n",
       "      <td>AMRO</td>\n",
       "      <td>2023.0</td>\n",
       "      <td>DTAPHIBIPV</td>\n",
       "      <td>DTaP-Hib-IPV (acellular) vaccine</td>\n",
       "      <td>1.0</td>\n",
       "      <td>NaN</td>\n",
       "      <td>General/routine</td>\n",
       "      <td>NATIONAL</td>\n",
       "      <td>M2</td>\n",
       "      <td>NaN</td>\n",
       "    </tr>\n",
       "    <tr>\n",
       "      <th>1</th>\n",
       "      <td>ABW</td>\n",
       "      <td>Aruba</td>\n",
       "      <td>AMRO</td>\n",
       "      <td>2023.0</td>\n",
       "      <td>DTAPHIBIPV</td>\n",
       "      <td>DTaP-Hib-IPV (acellular) vaccine</td>\n",
       "      <td>2.0</td>\n",
       "      <td>NaN</td>\n",
       "      <td>General/routine</td>\n",
       "      <td>NATIONAL</td>\n",
       "      <td>M4</td>\n",
       "      <td>NaN</td>\n",
       "    </tr>\n",
       "    <tr>\n",
       "      <th>2</th>\n",
       "      <td>ABW</td>\n",
       "      <td>Aruba</td>\n",
       "      <td>AMRO</td>\n",
       "      <td>2023.0</td>\n",
       "      <td>DTAPHIBIPV</td>\n",
       "      <td>DTaP-Hib-IPV (acellular) vaccine</td>\n",
       "      <td>3.0</td>\n",
       "      <td>NaN</td>\n",
       "      <td>General/routine</td>\n",
       "      <td>NATIONAL</td>\n",
       "      <td>M6</td>\n",
       "      <td>NaN</td>\n",
       "    </tr>\n",
       "    <tr>\n",
       "      <th>3</th>\n",
       "      <td>ABW</td>\n",
       "      <td>Aruba</td>\n",
       "      <td>AMRO</td>\n",
       "      <td>2023.0</td>\n",
       "      <td>DTAPHIBIPV</td>\n",
       "      <td>DTaP-Hib-IPV (acellular) vaccine</td>\n",
       "      <td>4.0</td>\n",
       "      <td>B_2YL_W</td>\n",
       "      <td>General/routine</td>\n",
       "      <td>NATIONAL</td>\n",
       "      <td>M15</td>\n",
       "      <td>NaN</td>\n",
       "    </tr>\n",
       "    <tr>\n",
       "      <th>4</th>\n",
       "      <td>ABW</td>\n",
       "      <td>Aruba</td>\n",
       "      <td>AMRO</td>\n",
       "      <td>2023.0</td>\n",
       "      <td>DTAPIPV</td>\n",
       "      <td>DTaP-IPV (acellular) vaccine</td>\n",
       "      <td>5.0</td>\n",
       "      <td>B_CHILD_W</td>\n",
       "      <td>General/routine</td>\n",
       "      <td>NATIONAL</td>\n",
       "      <td>Y4</td>\n",
       "      <td>NaN</td>\n",
       "    </tr>\n",
       "  </tbody>\n",
       "</table>\n",
       "</div>"
      ]
     },
     "execution_count": 8,
     "metadata": {},
     "output_type": "execute_result"
    }
   ],
   "execution_count": 8
  },
  {
   "metadata": {
    "ExecuteTime": {
     "end_time": "2025-08-29T16:52:31.285594Z",
     "start_time": "2025-08-29T16:52:31.282804Z"
    }
   },
   "cell_type": "code",
   "source": [
    "# Dataset Columns\n",
    "print(\"Coverage Data: \",coverage_df.columns)\n",
    "print(\"Incidence Rate Data: \",incidence_rate_df.columns)\n",
    "print(\"Reported Cases Data: \",reported_cases_df.columns)\n",
    "print(\"Vaccine Introduction Data: \",vaccine_introduction_df.columns)\n",
    "print(\"Vaccine Schedule Data: \",vaccine_schedule_df.columns)"
   ],
   "id": "217d965e1a621595",
   "outputs": [
    {
     "name": "stdout",
     "output_type": "stream",
     "text": [
      "Coverage Data:  Index(['GROUP', 'CODE', 'NAME', 'YEAR', 'ANTIGEN', 'ANTIGEN_DESCRIPTION',\n",
      "       'COVERAGE_CATEGORY', 'COVERAGE_CATEGORY_DESCRIPTION', 'TARGET_NUMBER',\n",
      "       'DOSES', 'COVERAGE'],\n",
      "      dtype='object')\n",
      "Incidence Rate Data:  Index(['GROUP', 'CODE', 'NAME', 'YEAR', 'DISEASE', 'DISEASE_DESCRIPTION',\n",
      "       'DENOMINATOR', 'INCIDENCE_RATE'],\n",
      "      dtype='object')\n",
      "Reported Cases Data:  Index(['GROUP', 'CODE', 'NAME', 'YEAR', 'DISEASE', 'DISEASE_DESCRIPTION',\n",
      "       'CASES'],\n",
      "      dtype='object')\n",
      "Vaccine Introduction Data:  Index(['ISO_3_CODE', 'COUNTRYNAME', 'WHO_REGION', 'YEAR', 'DESCRIPTION',\n",
      "       'INTRO'],\n",
      "      dtype='object')\n",
      "Vaccine Schedule Data:  Index(['ISO_3_CODE', 'COUNTRYNAME', 'WHO_REGION', 'YEAR', 'VACCINECODE',\n",
      "       'VACCINE_DESCRIPTION', 'SCHEDULEROUNDS', 'TARGETPOP',\n",
      "       'TARGETPOP_DESCRIPTION', 'GEOAREA', 'AGEADMINISTERED', 'SOURCECOMMENT'],\n",
      "      dtype='object')\n"
     ]
    }
   ],
   "execution_count": 9
  },
  {
   "metadata": {
    "ExecuteTime": {
     "end_time": "2025-08-29T16:52:31.298273Z",
     "start_time": "2025-08-29T16:52:31.295380Z"
    }
   },
   "cell_type": "code",
   "source": [
    "# Dimension of dataset\n",
    "print(\"Coverage Data: \",coverage_df.shape)\n",
    "print(\"Incidence Rate Data: \",incidence_rate_df.shape)\n",
    "print(\"Reported Cases Data: \",reported_cases_df.shape)\n",
    "print(\"Vaccine Introduction Data: \",vaccine_introduction_df.shape)\n",
    "print(\"Vaccine Schedule Data: \",vaccine_schedule_df.shape)"
   ],
   "id": "8a07e80f704c8f74",
   "outputs": [
    {
     "name": "stdout",
     "output_type": "stream",
     "text": [
      "Coverage Data:  (399859, 11)\n",
      "Incidence Rate Data:  (84946, 8)\n",
      "Reported Cases Data:  (84870, 7)\n",
      "Vaccine Introduction Data:  (138321, 6)\n",
      "Vaccine Schedule Data:  (8053, 12)\n"
     ]
    }
   ],
   "execution_count": 10
  },
  {
   "metadata": {},
   "cell_type": "markdown",
   "source": "#### Handling Missing Values",
   "id": "364ec6c63a464120"
  },
  {
   "metadata": {},
   "cell_type": "markdown",
   "source": "##### Coverage Data",
   "id": "2eb3635f54a8f81d"
  },
  {
   "metadata": {
    "ExecuteTime": {
     "end_time": "2025-08-29T16:52:31.382498Z",
     "start_time": "2025-08-29T16:52:31.313618Z"
    }
   },
   "cell_type": "code",
   "source": [
    "# Coverage Data Null Values\n",
    "coverage_df.isnull().sum()"
   ],
   "id": "195e28c34c245ef1",
   "outputs": [
    {
     "data": {
      "text/plain": [
       "GROUP                                 0\n",
       "CODE                                  1\n",
       "NAME                               1275\n",
       "YEAR                                  1\n",
       "ANTIGEN                               1\n",
       "ANTIGEN_DESCRIPTION                   1\n",
       "COVERAGE_CATEGORY                     1\n",
       "COVERAGE_CATEGORY_DESCRIPTION         1\n",
       "TARGET_NUMBER                    320829\n",
       "DOSES                            320532\n",
       "COVERAGE                         169382\n",
       "dtype: int64"
      ]
     },
     "execution_count": 11,
     "metadata": {},
     "output_type": "execute_result"
    }
   ],
   "execution_count": 11
  },
  {
   "metadata": {
    "ExecuteTime": {
     "end_time": "2025-08-29T16:52:31.784977Z",
     "start_time": "2025-08-29T16:52:31.392544Z"
    }
   },
   "cell_type": "code",
   "source": [
    "# Drop rows with critical missing small counts\n",
    "coverage_df = coverage_df.dropna(subset=[\n",
    "    'CODE', 'NAME', 'YEAR',\n",
    "    'ANTIGEN', 'ANTIGEN_DESCRIPTION',\n",
    "    'COVERAGE_CATEGORY', 'COVERAGE_CATEGORY_DESCRIPTION'\n",
    "])\n",
    "\n",
    "# Drop unnecessary high-missing columns\n",
    "coverage_df = coverage_df.drop(columns=['DOSES', 'TARGET_NUMBER'])\n",
    "\n",
    "# Impute COVERAGE using group median safely\n",
    "coverage_df['COVERAGE'] = coverage_df.groupby(['ANTIGEN', 'YEAR'])['COVERAGE']\\\n",
    "    .transform(lambda x: x.fillna(x.median()) if x.notna().any() else x)\n",
    "\n",
    "# Fill remaining NaNs with global median\n",
    "coverage_df['COVERAGE'] = coverage_df['COVERAGE'].fillna(coverage_df['COVERAGE'].median())\n",
    "\n",
    "print(\"Remaining null values:\\n\", coverage_df.isna().sum())\n",
    "print(\"Final shape:\", coverage_df.shape)"
   ],
   "id": "ffe21cd24e76e67c",
   "outputs": [
    {
     "name": "stdout",
     "output_type": "stream",
     "text": [
      "Remaining null values:\n",
      " GROUP                            0\n",
      "CODE                             0\n",
      "NAME                             0\n",
      "YEAR                             0\n",
      "ANTIGEN                          0\n",
      "ANTIGEN_DESCRIPTION              0\n",
      "COVERAGE_CATEGORY                0\n",
      "COVERAGE_CATEGORY_DESCRIPTION    0\n",
      "COVERAGE                         0\n",
      "dtype: int64\n",
      "Final shape: (398584, 9)\n"
     ]
    }
   ],
   "execution_count": 12
  },
  {
   "metadata": {},
   "cell_type": "markdown",
   "source": "##### Incidence Rate Data",
   "id": "be4834923582b9a2"
  },
  {
   "metadata": {
    "ExecuteTime": {
     "end_time": "2025-08-29T16:52:31.804432Z",
     "start_time": "2025-08-29T16:52:31.790130Z"
    }
   },
   "cell_type": "code",
   "source": [
    "# Incidence Rate Data Null Values\n",
    "incidence_rate_df.isnull().sum()"
   ],
   "id": "bf12cfd775cc7570",
   "outputs": [
    {
     "data": {
      "text/plain": [
       "GROUP                      0\n",
       "CODE                       1\n",
       "NAME                       1\n",
       "YEAR                       1\n",
       "DISEASE                    1\n",
       "DISEASE_DESCRIPTION        1\n",
       "DENOMINATOR                1\n",
       "INCIDENCE_RATE         23362\n",
       "dtype: int64"
      ]
     },
     "execution_count": 13,
     "metadata": {},
     "output_type": "execute_result"
    }
   ],
   "execution_count": 13
  },
  {
   "metadata": {
    "ExecuteTime": {
     "end_time": "2025-08-29T16:52:31.888504Z",
     "start_time": "2025-08-29T16:52:31.812132Z"
    }
   },
   "cell_type": "code",
   "source": [
    "# Drop rows with critical missing values\n",
    "incidence_rate_df = incidence_rate_df.dropna(subset=[\n",
    "    'CODE', 'NAME', 'YEAR', 'DISEASE', 'DISEASE_DESCRIPTION', 'DENOMINATOR'\n",
    "])\n",
    "\n",
    "# Impute INCIDENCE_RATE using group median safely\n",
    "incidence_rate_df['INCIDENCE_RATE'] = incidence_rate_df.groupby(['DISEASE', 'YEAR'])['INCIDENCE_RATE']\\\n",
    "    .transform(lambda x: x.fillna(x.median()) if x.notna().any() else x)\n",
    "\n",
    "# Fill remaining NaNs with global median\n",
    "incidence_rate_df['INCIDENCE_RATE'] = incidence_rate_df['INCIDENCE_RATE'].fillna(incidence_rate_df['INCIDENCE_RATE'].median())\n",
    "\n",
    "print(\"Remaining null values:\\n\", incidence_rate_df.isna().sum())\n",
    "print(\"Final shape:\", incidence_rate_df.shape)"
   ],
   "id": "4abc984447272f2",
   "outputs": [
    {
     "name": "stdout",
     "output_type": "stream",
     "text": [
      "Remaining null values:\n",
      " GROUP                  0\n",
      "CODE                   0\n",
      "NAME                   0\n",
      "YEAR                   0\n",
      "DISEASE                0\n",
      "DISEASE_DESCRIPTION    0\n",
      "DENOMINATOR            0\n",
      "INCIDENCE_RATE         0\n",
      "dtype: int64\n",
      "Final shape: (84945, 8)\n"
     ]
    }
   ],
   "execution_count": 14
  },
  {
   "metadata": {},
   "cell_type": "markdown",
   "source": "##### Reported Cases Data",
   "id": "b38e2220ce866a27"
  },
  {
   "metadata": {
    "ExecuteTime": {
     "end_time": "2025-08-29T16:52:31.909249Z",
     "start_time": "2025-08-29T16:52:31.896095Z"
    }
   },
   "cell_type": "code",
   "source": [
    "# Reported Case Data Nul Values\n",
    "reported_cases_df.isnull().sum()"
   ],
   "id": "39a8eb087d4abb6f",
   "outputs": [
    {
     "data": {
      "text/plain": [
       "GROUP                      0\n",
       "CODE                       1\n",
       "NAME                       1\n",
       "YEAR                       1\n",
       "DISEASE                    1\n",
       "DISEASE_DESCRIPTION        1\n",
       "CASES                  19400\n",
       "dtype: int64"
      ]
     },
     "execution_count": 15,
     "metadata": {},
     "output_type": "execute_result"
    }
   ],
   "execution_count": 15
  },
  {
   "metadata": {
    "ExecuteTime": {
     "end_time": "2025-08-29T16:52:31.986327Z",
     "start_time": "2025-08-29T16:52:31.913598Z"
    }
   },
   "cell_type": "code",
   "source": [
    "# Drop rows with critical missing values\n",
    "reported_cases_df = reported_cases_df.dropna(subset=[\n",
    "    'CODE', 'NAME', 'YEAR', 'DISEASE', 'DISEASE_DESCRIPTION'\n",
    "])\n",
    "\n",
    "# Impute CASES using group median safely\n",
    "reported_cases_df['CASES'] = reported_cases_df.groupby(['DISEASE', 'YEAR'])['CASES']\\\n",
    "    .transform(lambda x: x.fillna(x.median()) if x.notna().any() else x)\n",
    "\n",
    "# Fill remaining NaNs with global median\n",
    "reported_cases_df['CASES'] = reported_cases_df['CASES'].fillna(reported_cases_df['CASES'].median())\n",
    "\n",
    "print(\"Remaining null values:\\n\", reported_cases_df.isna().sum())\n",
    "print(\"Final shape:\", reported_cases_df.shape)"
   ],
   "id": "db3656de675a5f1",
   "outputs": [
    {
     "name": "stdout",
     "output_type": "stream",
     "text": [
      "Remaining null values:\n",
      " GROUP                  0\n",
      "CODE                   0\n",
      "NAME                   0\n",
      "YEAR                   0\n",
      "DISEASE                0\n",
      "DISEASE_DESCRIPTION    0\n",
      "CASES                  0\n",
      "dtype: int64\n",
      "Final shape: (84869, 7)\n"
     ]
    }
   ],
   "execution_count": 16
  },
  {
   "metadata": {},
   "cell_type": "markdown",
   "source": "##### Vaccine Introduction Data",
   "id": "52a0d80399be80de"
  },
  {
   "metadata": {
    "ExecuteTime": {
     "end_time": "2025-08-29T16:52:32.013167Z",
     "start_time": "2025-08-29T16:52:31.995596Z"
    }
   },
   "cell_type": "code",
   "source": [
    "# Vaccine Introduction Data Null Values\n",
    "vaccine_introduction_df.isnull().sum()"
   ],
   "id": "b8d887233037ea78",
   "outputs": [
    {
     "data": {
      "text/plain": [
       "ISO_3_CODE     0\n",
       "COUNTRYNAME    1\n",
       "WHO_REGION     1\n",
       "YEAR           1\n",
       "DESCRIPTION    1\n",
       "INTRO          1\n",
       "dtype: int64"
      ]
     },
     "execution_count": 17,
     "metadata": {},
     "output_type": "execute_result"
    }
   ],
   "execution_count": 17
  },
  {
   "metadata": {
    "ExecuteTime": {
     "end_time": "2025-08-29T16:52:32.057380Z",
     "start_time": "2025-08-29T16:52:32.020416Z"
    }
   },
   "cell_type": "code",
   "source": [
    "# Drop rows with missing values in key columns\n",
    "vaccine_introduction_df = vaccine_introduction_df.dropna(subset=[\n",
    "    'COUNTRYNAME', 'WHO_REGION', 'YEAR', 'DESCRIPTION', 'INTRO'\n",
    "])\n",
    "\n",
    "print(\"Remaining null values:\\n\", vaccine_introduction_df.isna().sum())\n",
    "print(\"Final shape:\", vaccine_introduction_df.shape)"
   ],
   "id": "5a374b11d72bbc72",
   "outputs": [
    {
     "name": "stdout",
     "output_type": "stream",
     "text": [
      "Remaining null values:\n",
      " ISO_3_CODE     0\n",
      "COUNTRYNAME    0\n",
      "WHO_REGION     0\n",
      "YEAR           0\n",
      "DESCRIPTION    0\n",
      "INTRO          0\n",
      "dtype: int64\n",
      "Final shape: (138320, 6)\n"
     ]
    }
   ],
   "execution_count": 18
  },
  {
   "metadata": {},
   "cell_type": "markdown",
   "source": "##### Vaccine Schedule Data",
   "id": "baccec4af63ef63f"
  },
  {
   "metadata": {
    "ExecuteTime": {
     "end_time": "2025-08-29T16:52:32.069855Z",
     "start_time": "2025-08-29T16:52:32.064888Z"
    }
   },
   "cell_type": "code",
   "source": [
    "# Vaccine Schedule Data Null Values\n",
    "vaccine_schedule_df.isnull().sum()"
   ],
   "id": "6677fe8ca24a64a8",
   "outputs": [
    {
     "data": {
      "text/plain": [
       "ISO_3_CODE                  0\n",
       "COUNTRYNAME                 1\n",
       "WHO_REGION                  1\n",
       "YEAR                        1\n",
       "VACCINECODE                 1\n",
       "VACCINE_DESCRIPTION         1\n",
       "SCHEDULEROUNDS              1\n",
       "TARGETPOP                4258\n",
       "TARGETPOP_DESCRIPTION       1\n",
       "GEOAREA                    31\n",
       "AGEADMINISTERED          1046\n",
       "SOURCECOMMENT            2914\n",
       "dtype: int64"
      ]
     },
     "execution_count": 19,
     "metadata": {},
     "output_type": "execute_result"
    }
   ],
   "execution_count": 19
  },
  {
   "metadata": {
    "ExecuteTime": {
     "end_time": "2025-08-29T16:52:32.086281Z",
     "start_time": "2025-08-29T16:52:32.076839Z"
    }
   },
   "cell_type": "code",
   "source": [
    "# Drop rows where critical info is missing\n",
    "vaccine_schedule_df = vaccine_schedule_df.dropna(subset=[\n",
    "    'COUNTRYNAME', 'WHO_REGION', 'YEAR',\n",
    "    'VACCINECODE', 'VACCINE_DESCRIPTION',\n",
    "    'SCHEDULEROUNDS', 'TARGETPOP_DESCRIPTION'\n",
    "])\n",
    "\n",
    "# Fill categorical missing values\n",
    "vaccine_schedule_df['TARGETPOP'] = vaccine_schedule_df['TARGETPOP'].fillna(\"Unknown\")\n",
    "vaccine_schedule_df['AGEADMINISTERED'] = vaccine_schedule_df['AGEADMINISTERED'].fillna(\"Not Specified\")\n",
    "vaccine_schedule_df['GEOAREA'] = vaccine_schedule_df['GEOAREA'].fillna(\"Not Specified\")\n",
    "\n",
    "# Drop SOURCECOMMENT\n",
    "vaccine_schedule_df = vaccine_schedule_df.drop(columns=['SOURCECOMMENT'])\n",
    "\n",
    "\n",
    "print(\"Remaining null values:\\n\", vaccine_schedule_df.isna().sum())\n",
    "print(\"Final shape:\", vaccine_schedule_df.shape)"
   ],
   "id": "8d0716b1b27fbf8c",
   "outputs": [
    {
     "name": "stdout",
     "output_type": "stream",
     "text": [
      "Remaining null values:\n",
      " ISO_3_CODE               0\n",
      "COUNTRYNAME              0\n",
      "WHO_REGION               0\n",
      "YEAR                     0\n",
      "VACCINECODE              0\n",
      "VACCINE_DESCRIPTION      0\n",
      "SCHEDULEROUNDS           0\n",
      "TARGETPOP                0\n",
      "TARGETPOP_DESCRIPTION    0\n",
      "GEOAREA                  0\n",
      "AGEADMINISTERED          0\n",
      "dtype: int64\n",
      "Final shape: (8052, 11)\n"
     ]
    }
   ],
   "execution_count": 20
  },
  {
   "metadata": {},
   "cell_type": "markdown",
   "source": "#### Normalizing Units",
   "id": "a30174710760fec9"
  },
  {
   "metadata": {
    "ExecuteTime": {
     "end_time": "2025-08-29T16:52:32.119377Z",
     "start_time": "2025-08-29T16:52:32.093317Z"
    }
   },
   "cell_type": "code",
   "source": [
    "# Coverage Data Normalization\n",
    "coverage_df['COVERAGE'] = coverage_df['COVERAGE'].clip(lower=0, upper=100)\n",
    "\n",
    "# Incidence Rate Data Normalization\n",
    "incidence_cap = incidence_rate_df['INCIDENCE_RATE'].quantile(0.99)\n",
    "incidence_rate_df['INCIDENCE_RATE'] = incidence_rate_df['INCIDENCE_RATE'].clip(lower=0, upper=incidence_cap)\n",
    "\n",
    "# Vaccine Introduction Data Normalization\n",
    "vaccine_introduction_df['INTRO'] = vaccine_introduction_df['INTRO'].replace({\n",
    "    'Yes (R)': 'Yes',\n",
    "    'Yes (P)': 'Yes',\n",
    "    'Yes (A)': 'Yes',\n",
    "    'Yes (O)': 'Yes',\n",
    "    'Yes (D)': 'Yes'\n",
    "})"
   ],
   "id": "edc98ec7486e7f83",
   "outputs": [],
   "execution_count": 21
  },
  {
   "metadata": {
    "ExecuteTime": {
     "end_time": "2025-08-29T16:52:32.129454Z",
     "start_time": "2025-08-29T16:52:32.123466Z"
    }
   },
   "cell_type": "code",
   "source": [
    "# Function to normalize AGEADMINISTERED into months\n",
    "def normalize_age(age):\n",
    "    if pd.isna(age):\n",
    "        return None\n",
    "\n",
    "    age = str(age).strip()\n",
    "\n",
    "    # Skip ranges like \"15-Y49\"\n",
    "    if \"-\" in age:\n",
    "        return None\n",
    "\n",
    "    try:\n",
    "        if age.startswith('M'):\n",
    "            return float(age[1:])\n",
    "\n",
    "        if age.startswith('Y'):\n",
    "            return float(age[1:]) * 12\n",
    "\n",
    "        if age.startswith('+M'):\n",
    "            return float(age[2:])\n",
    "\n",
    "        if age.startswith('+Y'):\n",
    "            return float(age[2:]) * 12\n",
    "    except:\n",
    "        return None\n",
    "\n",
    "    return None\n",
    "\n",
    "# Apply normalization to dataset\n",
    "vaccine_schedule_df['AGEADMINISTERED_MONTHS'] = (\n",
    "    vaccine_schedule_df['AGEADMINISTERED']\n",
    "    .apply(normalize_age)\n",
    ")"
   ],
   "id": "7e41ed044cce940c",
   "outputs": [],
   "execution_count": 22
  },
  {
   "metadata": {},
   "cell_type": "markdown",
   "source": "#### Date Consistency",
   "id": "984cf21cf34f4c99"
  },
  {
   "metadata": {
    "ExecuteTime": {
     "end_time": "2025-08-29T16:52:32.140032Z",
     "start_time": "2025-08-29T16:52:32.135675Z"
    }
   },
   "cell_type": "code",
   "source": [
    "# Convert the years to integers\n",
    "for df in [coverage_df, incidence_rate_df, reported_cases_df]:\n",
    "    df['YEAR'] = df['YEAR'].astype(int)"
   ],
   "id": "b52a48b1c39b3caf",
   "outputs": [],
   "execution_count": 23
  },
  {
   "metadata": {},
   "cell_type": "markdown",
   "source": "### SQL Database Setup",
   "id": "10426206fb2c6bc7"
  },
  {
   "metadata": {
    "ExecuteTime": {
     "end_time": "2025-08-29T18:57:38.307048Z",
     "start_time": "2025-08-29T18:57:38.294602Z"
    }
   },
   "cell_type": "code",
   "source": [
    "# Connect to MySQL\n",
    "conn = mysql.connector.connect(\n",
    "    host=\"localhost\",\n",
    "    user=\"root\",\n",
    "    password=\"Aries@123\",\n",
    ")"
   ],
   "id": "5a7dac02de959086",
   "outputs": [],
   "execution_count": 116
  },
  {
   "metadata": {
    "ExecuteTime": {
     "end_time": "2025-08-29T18:57:39.992311Z",
     "start_time": "2025-08-29T18:57:39.989005Z"
    }
   },
   "cell_type": "code",
   "source": [
    "# Create Cursor\n",
    "cursor = conn.cursor()"
   ],
   "id": "861e380d4ad5f4f3",
   "outputs": [],
   "execution_count": 117
  },
  {
   "metadata": {
    "ExecuteTime": {
     "end_time": "2025-08-29T18:57:40.794805Z",
     "start_time": "2025-08-29T18:57:40.790292Z"
    }
   },
   "cell_type": "code",
   "source": [
    "# Create VACCINE Database\n",
    "cursor.execute(\"CREATE DATABASE IF NOT EXISTS VACCINE\")\n",
    "cursor.execute(\"USE VACCINE\")"
   ],
   "id": "d93aa0505a036833",
   "outputs": [],
   "execution_count": 118
  },
  {
   "metadata": {
    "ExecuteTime": {
     "end_time": "2025-08-29T18:57:41.953986Z",
     "start_time": "2025-08-29T18:57:41.784380Z"
    }
   },
   "cell_type": "code",
   "source": [
    "# Replace NaN with None for MySQL compatibility\n",
    "coverage_df = coverage_df.where(pd.notnull(coverage_df), None)\n",
    "incidence_rate_df = incidence_rate_df.where(pd.notnull(incidence_rate_df), None)\n",
    "reported_cases_df = reported_cases_df.where(pd.notnull(reported_cases_df), None)\n",
    "vaccine_introduction_df = vaccine_introduction_df.where(pd.notnull(vaccine_introduction_df), None)\n",
    "vaccine_schedule_df = vaccine_schedule_df.where(pd.notnull(vaccine_schedule_df), None)"
   ],
   "id": "cedf8253c63a853f",
   "outputs": [],
   "execution_count": 119
  },
  {
   "metadata": {},
   "cell_type": "markdown",
   "source": "#### Create Dimension Tables",
   "id": "b1c704d7c54963d5"
  },
  {
   "metadata": {
    "ExecuteTime": {
     "end_time": "2025-08-29T18:57:43.214349Z",
     "start_time": "2025-08-29T18:57:43.190987Z"
    }
   },
   "cell_type": "code",
   "source": [
    "# Dim Country\n",
    "cursor.execute(\"\"\"\n",
    "CREATE TABLE IF NOT EXISTS dim_country (\n",
    "    CODE VARCHAR(50) PRIMARY KEY,\n",
    "    NAME VARCHAR(255),\n",
    "    GROUPNAME VARCHAR(100)\n",
    ")\n",
    "\"\"\")\n",
    "\n",
    "# Dim Vaccine\n",
    "cursor.execute(\"\"\"\n",
    "CREATE TABLE IF NOT EXISTS dim_vaccine (\n",
    "    VACCINECODE VARCHAR(50) PRIMARY KEY,\n",
    "    VACCINEDESCRIPTION VARCHAR(255)\n",
    ")\n",
    "\"\"\")\n",
    "\n",
    "# Dim Disease\n",
    "cursor.execute(\"\"\"\n",
    "CREATE TABLE IF NOT EXISTS dim_disease (\n",
    "    DISEASE VARCHAR(50) PRIMARY KEY,\n",
    "    DISEASE_DESCRIPTION VARCHAR(255)\n",
    ")\n",
    "\"\"\")\n",
    "conn.commit()\n"
   ],
   "id": "26666f5e3698bbd3",
   "outputs": [],
   "execution_count": 120
  },
  {
   "metadata": {},
   "cell_type": "markdown",
   "source": "#### Create Fact Tables",
   "id": "2645b0d8be0a8ade"
  },
  {
   "metadata": {
    "ExecuteTime": {
     "end_time": "2025-08-29T18:57:45.114273Z",
     "start_time": "2025-08-29T18:57:45.072833Z"
    }
   },
   "cell_type": "code",
   "source": [
    "# Fact Coverage\n",
    "cursor.execute(\"\"\"\n",
    "CREATE TABLE IF NOT EXISTS fact_coverage (\n",
    "    COUNTRYCODE VARCHAR(50),\n",
    "    YEAR INT,\n",
    "    VACCINECODE VARCHAR(50),\n",
    "    COVERAGE_CATEGORY VARCHAR(50),\n",
    "    COVERAGE FLOAT,\n",
    "    PRIMARY KEY(COUNTRYCODE, YEAR, VACCINECODE, COVERAGE_CATEGORY),\n",
    "    FOREIGN KEY(COUNTRYCODE) REFERENCES dim_country(CODE),\n",
    "    FOREIGN KEY(VACCINECODE) REFERENCES dim_vaccine(VACCINECODE)\n",
    ")\n",
    "\"\"\")\n",
    "\n",
    "# Fact Incidence\n",
    "cursor.execute(\"\"\"\n",
    "CREATE TABLE IF NOT EXISTS fact_incidence (\n",
    "    COUNTRYCODE VARCHAR(50),\n",
    "    YEAR INT,\n",
    "    DISEASE VARCHAR(50),\n",
    "    INCIDENCE_RATE FLOAT,\n",
    "    PRIMARY KEY(COUNTRYCODE, YEAR, DISEASE),\n",
    "    FOREIGN KEY(COUNTRYCODE) REFERENCES dim_country(CODE),\n",
    "    FOREIGN KEY(DISEASE) REFERENCES dim_disease(DISEASE)\n",
    ")\n",
    "\"\"\")\n",
    "\n",
    "# Fact Vaccine Schedule\n",
    "cursor.execute(\"\"\"\n",
    "CREATE TABLE IF NOT EXISTS fact_vaccine_schedule (\n",
    "    COUNTRYCODE VARCHAR(50),\n",
    "    YEAR INT,\n",
    "    VACCINECODE VARCHAR(50),\n",
    "    SCHEDULEROUNDS INT,\n",
    "    TARGETPOP VARCHAR(50),\n",
    "    AGEADMINISTERED_MONTHS FLOAT,\n",
    "    GEOAREA VARCHAR(50),\n",
    "    PRIMARY KEY(COUNTRYCODE, YEAR, VACCINECODE, SCHEDULEROUNDS),\n",
    "    FOREIGN KEY(COUNTRYCODE) REFERENCES dim_country(CODE),\n",
    "    FOREIGN KEY(VACCINECODE) REFERENCES dim_vaccine(VACCINECODE)\n",
    ")\n",
    "\"\"\")\n",
    "\n",
    "# Fact Vaccine Introduction\n",
    "cursor.execute(\"\"\"\n",
    "CREATE TABLE IF NOT EXISTS fact_vaccine_introduction (\n",
    "    COUNTRYCODE VARCHAR(50),\n",
    "    YEAR INT,\n",
    "    VACCINECODE VARCHAR(50),\n",
    "    INTRO VARCHAR(20),\n",
    "    PRIMARY KEY(COUNTRYCODE, YEAR, VACCINECODE),\n",
    "    FOREIGN KEY(COUNTRYCODE) REFERENCES dim_country(CODE),\n",
    "    FOREIGN KEY(VACCINECODE) REFERENCES dim_vaccine(VACCINECODE)\n",
    ")\n",
    "\"\"\")\n",
    "conn.commit()\n"
   ],
   "id": "e0500c04b471fc67",
   "outputs": [],
   "execution_count": 121
  },
  {
   "metadata": {},
   "cell_type": "markdown",
   "source": "#### Insert into Dimension Tables",
   "id": "1ee9bf30e65842d2"
  },
  {
   "metadata": {
    "ExecuteTime": {
     "end_time": "2025-08-29T18:57:47.715736Z",
     "start_time": "2025-08-29T18:57:47.492942Z"
    }
   },
   "cell_type": "code",
   "source": [
    "# Dim Country\n",
    "for _, row in coverage_df[['CODE','NAME','GROUP']].drop_duplicates().iterrows():\n",
    "    try:\n",
    "        cursor.execute(\"\"\"\n",
    "            INSERT INTO dim_country (CODE, NAME, GROUPNAME)\n",
    "            SELECT %s, %s, %s FROM DUAL\n",
    "            WHERE NOT EXISTS (\n",
    "                SELECT 1 FROM dim_country WHERE CODE=%s\n",
    "            )\n",
    "        \"\"\", (row['CODE'], row['NAME'], row['GROUP'], row['CODE']))\n",
    "    except mysql.connector.Error as e:\n",
    "        print(f\"Country insert error: {e}\")\n",
    "\n",
    "# Dim Vaccine\n",
    "vaccine_all = pd.concat([\n",
    "    coverage_df[['ANTIGEN','ANTIGEN_DESCRIPTION']].rename(columns={'ANTIGEN':'VACCINECODE','ANTIGEN_DESCRIPTION':'VACCINEDESCRIPTION'}),\n",
    "    vaccine_schedule_df[['VACCINECODE','VACCINE_DESCRIPTION']].rename(columns={'VACCINE_DESCRIPTION':'VACCINEDESCRIPTION'})\n",
    "]).drop_duplicates()\n",
    "\n",
    "for _, row in vaccine_all.iterrows():\n",
    "    try:\n",
    "        if pd.notna(row['VACCINECODE']) and pd.notna(row['VACCINEDESCRIPTION']):\n",
    "            cursor.execute(\"\"\"\n",
    "                INSERT INTO dim_vaccine (VACCINECODE, VACCINEDESCRIPTION)\n",
    "                SELECT %s, %s FROM DUAL\n",
    "                WHERE NOT EXISTS (\n",
    "                    SELECT 1 FROM dim_vaccine WHERE VACCINECODE=%s\n",
    "                )\n",
    "            \"\"\", (row['VACCINECODE'], row['VACCINEDESCRIPTION'], row['VACCINECODE']))\n",
    "    except mysql.connector.Error as e:\n",
    "        print(f\"Vaccine insert error: {e}\")\n",
    "\n",
    "# Dim Disease\n",
    "disease_all = pd.concat([incidence_rate_df[['DISEASE','DISEASE_DESCRIPTION']],\n",
    "                         reported_cases_df[['DISEASE','DISEASE_DESCRIPTION']]]).drop_duplicates()\n",
    "for _, row in disease_all.iterrows():\n",
    "    try:\n",
    "        cursor.execute(\"\"\"\n",
    "            INSERT INTO dim_disease (DISEASE, DISEASE_DESCRIPTION)\n",
    "            SELECT %s, %s FROM DUAL\n",
    "            WHERE NOT EXISTS (\n",
    "                SELECT 1 FROM dim_disease WHERE DISEASE=%s\n",
    "            )\n",
    "        \"\"\", (row['DISEASE'], row['DISEASE_DESCRIPTION'], row['DISEASE']))\n",
    "    except mysql.connector.Error as e:\n",
    "        print(f\"Disease insert error: {e}\")\n",
    "\n",
    "conn.commit()\n"
   ],
   "id": "ef0c7c9abaf74220",
   "outputs": [],
   "execution_count": 122
  },
  {
   "metadata": {},
   "cell_type": "markdown",
   "source": "#### Insert Into Fact Tables",
   "id": "5127e907df1e96c0"
  },
  {
   "metadata": {
    "ExecuteTime": {
     "end_time": "2025-08-29T18:59:01.635621Z",
     "start_time": "2025-08-29T18:58:10.889712Z"
    }
   },
   "cell_type": "code",
   "source": [
    "# Fact Coverage\n",
    "for _, row in coverage_df.iterrows():\n",
    "    try:\n",
    "        cursor.execute(\"\"\"\n",
    "            INSERT INTO fact_coverage (COUNTRYCODE, YEAR, VACCINECODE, COVERAGE_CATEGORY, COVERAGE)\n",
    "            SELECT %s,%s,%s,%s,%s FROM DUAL\n",
    "            WHERE NOT EXISTS (\n",
    "                SELECT 1 FROM fact_coverage\n",
    "                WHERE COUNTRYCODE=%s AND YEAR=%s AND VACCINECODE=%s AND COVERAGE_CATEGORY=%s\n",
    "            )\n",
    "        \"\"\", (row['CODE'], row['YEAR'], row['ANTIGEN'], row['COVERAGE_CATEGORY'], row['COVERAGE'],\n",
    "              row['CODE'], row['YEAR'], row['ANTIGEN'], row['COVERAGE_CATEGORY']))\n",
    "    except mysql.connector.Error as e:\n",
    "        print(f\"Coverage insert error: {e}\")\n",
    "\n",
    "# Fact Incidence\n",
    "for _, row in incidence_rate_df.iterrows():\n",
    "    try:\n",
    "        cursor.execute(\"\"\"\n",
    "            INSERT INTO fact_incidence (COUNTRYCODE, YEAR, DISEASE, INCIDENCE_RATE)\n",
    "            SELECT %s,%s,%s,%s FROM DUAL\n",
    "            WHERE NOT EXISTS (\n",
    "                SELECT 1 FROM fact_incidence\n",
    "                WHERE COUNTRYCODE=%s AND YEAR=%s AND DISEASE=%s\n",
    "            )\n",
    "        \"\"\", (row['CODE'], row['YEAR'], row['DISEASE'], row['INCIDENCE_RATE'],\n",
    "              row['CODE'], row['YEAR'], row['DISEASE']))\n",
    "    except mysql.connector.Error as e:\n",
    "        print(f\"Incidence insert error: {e}\")\n",
    "\n",
    "conn.commit()\n"
   ],
   "id": "923a0d04b619e7fd",
   "outputs": [],
   "execution_count": 123
  },
  {
   "metadata": {
    "ExecuteTime": {
     "end_time": "2025-08-29T18:59:12.435393Z",
     "start_time": "2025-08-29T18:59:04.565398Z"
    }
   },
   "cell_type": "code",
   "source": [
    "# Fact Vaccine Schedule\n",
    "for _, row in vaccine_schedule_df.iterrows():\n",
    "    try:\n",
    "        age_months = row['AGEADMINISTERED_MONTHS']\n",
    "        if pd.isna(age_months):\n",
    "            age_months = None  # convert NaN to None for MySQL\n",
    "\n",
    "        cursor.execute(\"\"\"\n",
    "            INSERT INTO fact_vaccine_schedule\n",
    "            (COUNTRYCODE,YEAR,VACCINECODE,SCHEDULEROUNDS,TARGETPOP,AGEADMINISTERED_MONTHS,GEOAREA)\n",
    "            SELECT %s,%s,%s,%s,%s,%s,%s FROM DUAL\n",
    "            WHERE NOT EXISTS (\n",
    "                SELECT 1 FROM fact_vaccine_schedule\n",
    "                WHERE COUNTRYCODE=%s AND YEAR=%s AND VACCINECODE=%s AND SCHEDULEROUNDS=%s\n",
    "            )\n",
    "        \"\"\", (\n",
    "            row['ISO_3_CODE'], row['YEAR'], row['VACCINECODE'], row['SCHEDULEROUNDS'],\n",
    "            row['TARGETPOP'], age_months, row['GEOAREA'],\n",
    "            row['ISO_3_CODE'], row['YEAR'], row['VACCINECODE'], row['SCHEDULEROUNDS']\n",
    "        ))\n",
    "    except mysql.connector.Error as e:\n",
    "        print(f\"Vaccine schedule insert error: {e}\")\n",
    "\n",
    "\n",
    "# Fact Vaccine Introduction\n",
    "# Merge with dim_vaccine to ensure FK safety\n",
    "vaccine_intro_merged = pd.merge(vaccine_introduction_df, vaccine_all, left_on='DESCRIPTION', right_on='VACCINEDESCRIPTION', how='inner')\n",
    "\n",
    "for _, row in vaccine_intro_merged.iterrows():\n",
    "    try:\n",
    "        cursor.execute(\"\"\"\n",
    "            INSERT INTO fact_vaccine_introduction\n",
    "            (COUNTRYCODE,YEAR,VACCINECODE,INTRO)\n",
    "            SELECT %s,%s,%s,%s FROM DUAL\n",
    "            WHERE NOT EXISTS (\n",
    "                SELECT 1 FROM fact_vaccine_introduction\n",
    "                WHERE COUNTRYCODE=%s AND YEAR=%s AND VACCINECODE=%s\n",
    "            )\n",
    "        \"\"\", (row['ISO_3_CODE'], row['YEAR'], row['VACCINECODE'], row['INTRO'],\n",
    "              row['ISO_3_CODE'], row['YEAR'], row['VACCINECODE']))\n",
    "    except mysql.connector.Error as e:\n",
    "        print(f\"Vaccine introduction insert error: {e}\")\n",
    "\n",
    "conn.commit()"
   ],
   "id": "c07e466593fcb115",
   "outputs": [],
   "execution_count": 124
  }
 ],
 "metadata": {
  "kernelspec": {
   "display_name": "Python 3",
   "language": "python",
   "name": "python3"
  },
  "language_info": {
   "codemirror_mode": {
    "name": "ipython",
    "version": 2
   },
   "file_extension": ".py",
   "mimetype": "text/x-python",
   "name": "python",
   "nbconvert_exporter": "python",
   "pygments_lexer": "ipython2",
   "version": "2.7.6"
  }
 },
 "nbformat": 4,
 "nbformat_minor": 5
}
