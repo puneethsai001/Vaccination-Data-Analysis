{
 "cells": [
  {
   "metadata": {},
   "cell_type": "markdown",
   "source": "# Project Name: Vaccination Analysis",
   "id": "a2fd8a2d4d9604af"
  },
  {
   "metadata": {},
   "cell_type": "markdown",
   "source": [
    "##### **Project Type**    - Data Analysis\n",
    "##### **Contribution**    - Individual\n",
    "##### **Member       - Puneeth Sai Satvik**"
   ],
   "id": "14f3a6ead2893e3"
  },
  {
   "metadata": {},
   "cell_type": "markdown",
   "source": "### Project Summary",
   "id": "adc5718be8808ad7"
  },
  {
   "metadata": {},
   "cell_type": "markdown",
   "source": [
    "The main objective of this project is to clean the provided dataset, normalize it into relational tables, insert the data into a MySQL database, and finally load it into Power BI to generate visual insights through interactive graphs and dashboards. The dataset primarily focuses on **vaccination coverage**, **disease incidence**, and **reported cases** across different regions of the world.\n",
    "\n",
    "\n",
    "#### Data Cleaning and Preparation\n",
    "- The datasets are first loaded into a Python notebook using **Pandas**.\n",
    "- Cleaning steps include:\n",
    "  - Removing null values\n",
    "  - Dropping duplicates\n",
    "  - Eliminating irrelevant metadata\n",
    "- Dates are standardized into a consistent format to ensure smooth insertion into the database.\n",
    "\n",
    "\n",
    "#### Database Design and Population\n",
    "Using the **PyMySQL** library, a MySQL database is created along with normalized dimensional and fact tables.\n",
    "\n",
    "Dimensional Tables\n",
    "- `dim_country`\n",
    "- `dim_year`\n",
    "- `dim_disease`\n",
    "- `dim_vaccine`\n",
    "\n",
    "Fact Tables\n",
    "- `fact_coverage`\n",
    "- `fact_incidence`\n",
    "- `fact_cases`\n",
    "- `fact_introduction`\n",
    "- `fact_schedule`\n",
    "\n",
    "Data from the cleaned datasets is transformed into new Pandas DataFrames and inserted into the respective dimensional and fact tables. After insertion, changes are **committed** to the MySQL database to ensure persistence.\n",
    "\n",
    "\n",
    "#### Visualization in Power BI\n",
    "Finally, the populated MySQL database is connected to **Power BI**, where visualizations and dashboards are created to:\n",
    "- Analyze vaccination trends\n",
    "- Track disease incidence\n",
    "- Measure case reductions across regions\n",
    "- Answer analytical questions through interactive graphs\n"
   ],
   "id": "6bcd421975174e31"
  },
  {
   "metadata": {},
   "cell_type": "markdown",
   "source": "### GitHub Link",
   "id": "1a592cd420649f5e"
  },
  {
   "metadata": {},
   "cell_type": "markdown",
   "source": "https://github.com/puneethsai001/Vaccination-Data-Analysis",
   "id": "4f4c5fb77f033455"
  },
  {
   "metadata": {},
   "cell_type": "markdown",
   "source": "### Data Cleaning",
   "id": "f0daf98a6abda764"
  },
  {
   "metadata": {
    "ExecuteTime": {
     "end_time": "2025-09-01T16:10:18.156271Z",
     "start_time": "2025-09-01T16:10:17.745877Z"
    }
   },
   "cell_type": "code",
   "source": [
    "# Essential Imports\n",
    "import pandas as pd\n",
    "import os"
   ],
   "id": "a28fbbebf9498df1",
   "outputs": [],
   "execution_count": 1
  },
  {
   "metadata": {
    "ExecuteTime": {
     "end_time": "2025-09-01T16:11:30.136160Z",
     "start_time": "2025-09-01T16:10:18.161798Z"
    }
   },
   "cell_type": "code",
   "source": [
    "# Loading the data\n",
    "coverage_df = pd.read_excel('coverage-data.xlsx')\n",
    "incidence_rate_df = pd.read_excel('incidence-rate-data.xlsx')\n",
    "reported_cases_df = pd.read_excel('reported-cases-data.xlsx')\n",
    "vaccine_introduction_df = pd.read_excel('vaccine-introduction-data.xlsx')\n",
    "vaccine_schedule_df = pd.read_excel('vaccine-schedule-data.xlsx')"
   ],
   "id": "21ab22ec1c109a0a",
   "outputs": [],
   "execution_count": 2
  },
  {
   "metadata": {},
   "cell_type": "markdown",
   "source": "#### Dataset First View",
   "id": "7427c7973483b1f0"
  },
  {
   "metadata": {
    "ExecuteTime": {
     "end_time": "2025-09-01T16:11:30.167661Z",
     "start_time": "2025-09-01T16:11:30.154478Z"
    }
   },
   "cell_type": "code",
   "source": "coverage_df.head()",
   "id": "2c1194eb1960f62a",
   "outputs": [
    {
     "data": {
      "text/plain": [
       "       GROUP CODE   NAME    YEAR  ANTIGEN  \\\n",
       "0  COUNTRIES  ABW  Aruba  2023.0      BCG   \n",
       "1  COUNTRIES  ABW  Aruba  2023.0      BCG   \n",
       "2  COUNTRIES  ABW  Aruba  2023.0  DIPHCV4   \n",
       "3  COUNTRIES  ABW  Aruba  2023.0  DIPHCV4   \n",
       "4  COUNTRIES  ABW  Aruba  2023.0  DIPHCV5   \n",
       "\n",
       "                                 ANTIGEN_DESCRIPTION COVERAGE_CATEGORY  \\\n",
       "0                                                BCG             ADMIN   \n",
       "1                                                BCG          OFFICIAL   \n",
       "2  Diphtheria-containing vaccine, 4th dose (1st b...             ADMIN   \n",
       "3  Diphtheria-containing vaccine, 4th dose (1st b...          OFFICIAL   \n",
       "4  Diphtheria-containing vaccine, 5th dose (2nd b...             ADMIN   \n",
       "\n",
       "  COVERAGE_CATEGORY_DESCRIPTION  TARGET_NUMBER   DOSES  COVERAGE  \n",
       "0       Administrative coverage            NaN     NaN       NaN  \n",
       "1             Official coverage            NaN     NaN       NaN  \n",
       "2       Administrative coverage         1044.0   945.0     90.52  \n",
       "3             Official coverage            NaN     NaN     90.52  \n",
       "4       Administrative coverage         1219.0  1008.0     82.69  "
      ],
      "text/html": [
       "<div>\n",
       "<style scoped>\n",
       "    .dataframe tbody tr th:only-of-type {\n",
       "        vertical-align: middle;\n",
       "    }\n",
       "\n",
       "    .dataframe tbody tr th {\n",
       "        vertical-align: top;\n",
       "    }\n",
       "\n",
       "    .dataframe thead th {\n",
       "        text-align: right;\n",
       "    }\n",
       "</style>\n",
       "<table border=\"1\" class=\"dataframe\">\n",
       "  <thead>\n",
       "    <tr style=\"text-align: right;\">\n",
       "      <th></th>\n",
       "      <th>GROUP</th>\n",
       "      <th>CODE</th>\n",
       "      <th>NAME</th>\n",
       "      <th>YEAR</th>\n",
       "      <th>ANTIGEN</th>\n",
       "      <th>ANTIGEN_DESCRIPTION</th>\n",
       "      <th>COVERAGE_CATEGORY</th>\n",
       "      <th>COVERAGE_CATEGORY_DESCRIPTION</th>\n",
       "      <th>TARGET_NUMBER</th>\n",
       "      <th>DOSES</th>\n",
       "      <th>COVERAGE</th>\n",
       "    </tr>\n",
       "  </thead>\n",
       "  <tbody>\n",
       "    <tr>\n",
       "      <th>0</th>\n",
       "      <td>COUNTRIES</td>\n",
       "      <td>ABW</td>\n",
       "      <td>Aruba</td>\n",
       "      <td>2023.0</td>\n",
       "      <td>BCG</td>\n",
       "      <td>BCG</td>\n",
       "      <td>ADMIN</td>\n",
       "      <td>Administrative coverage</td>\n",
       "      <td>NaN</td>\n",
       "      <td>NaN</td>\n",
       "      <td>NaN</td>\n",
       "    </tr>\n",
       "    <tr>\n",
       "      <th>1</th>\n",
       "      <td>COUNTRIES</td>\n",
       "      <td>ABW</td>\n",
       "      <td>Aruba</td>\n",
       "      <td>2023.0</td>\n",
       "      <td>BCG</td>\n",
       "      <td>BCG</td>\n",
       "      <td>OFFICIAL</td>\n",
       "      <td>Official coverage</td>\n",
       "      <td>NaN</td>\n",
       "      <td>NaN</td>\n",
       "      <td>NaN</td>\n",
       "    </tr>\n",
       "    <tr>\n",
       "      <th>2</th>\n",
       "      <td>COUNTRIES</td>\n",
       "      <td>ABW</td>\n",
       "      <td>Aruba</td>\n",
       "      <td>2023.0</td>\n",
       "      <td>DIPHCV4</td>\n",
       "      <td>Diphtheria-containing vaccine, 4th dose (1st b...</td>\n",
       "      <td>ADMIN</td>\n",
       "      <td>Administrative coverage</td>\n",
       "      <td>1044.0</td>\n",
       "      <td>945.0</td>\n",
       "      <td>90.52</td>\n",
       "    </tr>\n",
       "    <tr>\n",
       "      <th>3</th>\n",
       "      <td>COUNTRIES</td>\n",
       "      <td>ABW</td>\n",
       "      <td>Aruba</td>\n",
       "      <td>2023.0</td>\n",
       "      <td>DIPHCV4</td>\n",
       "      <td>Diphtheria-containing vaccine, 4th dose (1st b...</td>\n",
       "      <td>OFFICIAL</td>\n",
       "      <td>Official coverage</td>\n",
       "      <td>NaN</td>\n",
       "      <td>NaN</td>\n",
       "      <td>90.52</td>\n",
       "    </tr>\n",
       "    <tr>\n",
       "      <th>4</th>\n",
       "      <td>COUNTRIES</td>\n",
       "      <td>ABW</td>\n",
       "      <td>Aruba</td>\n",
       "      <td>2023.0</td>\n",
       "      <td>DIPHCV5</td>\n",
       "      <td>Diphtheria-containing vaccine, 5th dose (2nd b...</td>\n",
       "      <td>ADMIN</td>\n",
       "      <td>Administrative coverage</td>\n",
       "      <td>1219.0</td>\n",
       "      <td>1008.0</td>\n",
       "      <td>82.69</td>\n",
       "    </tr>\n",
       "  </tbody>\n",
       "</table>\n",
       "</div>"
      ]
     },
     "execution_count": 3,
     "metadata": {},
     "output_type": "execute_result"
    }
   ],
   "execution_count": 3
  },
  {
   "metadata": {
    "ExecuteTime": {
     "end_time": "2025-09-01T16:11:30.187132Z",
     "start_time": "2025-09-01T16:11:30.178670Z"
    }
   },
   "cell_type": "code",
   "source": "incidence_rate_df.head()",
   "id": "4339149667c2fa68",
   "outputs": [
    {
     "data": {
      "text/plain": [
       "       GROUP CODE   NAME    YEAR          DISEASE  \\\n",
       "0  COUNTRIES  ABW  Aruba  2023.0              CRS   \n",
       "1  COUNTRIES  ABW  Aruba  2023.0       DIPHTHERIA   \n",
       "2  COUNTRIES  ABW  Aruba  2023.0  INVASIVE_MENING   \n",
       "3  COUNTRIES  ABW  Aruba  2023.0          MEASLES   \n",
       "4  COUNTRIES  ABW  Aruba  2023.0            MUMPS   \n",
       "\n",
       "              DISEASE_DESCRIPTION                     DENOMINATOR  \\\n",
       "0     Congenital rubella syndrome          per 10,000 live births   \n",
       "1                      Diphtheria  per 1,000,000 total population   \n",
       "2  Invasive meningococcal disease  per 1,000,000 total population   \n",
       "3                         Measles  per 1,000,000 total population   \n",
       "4                           Mumps  per 1,000,000 total population   \n",
       "\n",
       "   INCIDENCE_RATE  \n",
       "0             0.0  \n",
       "1             0.0  \n",
       "2             9.3  \n",
       "3             NaN  \n",
       "4             0.0  "
      ],
      "text/html": [
       "<div>\n",
       "<style scoped>\n",
       "    .dataframe tbody tr th:only-of-type {\n",
       "        vertical-align: middle;\n",
       "    }\n",
       "\n",
       "    .dataframe tbody tr th {\n",
       "        vertical-align: top;\n",
       "    }\n",
       "\n",
       "    .dataframe thead th {\n",
       "        text-align: right;\n",
       "    }\n",
       "</style>\n",
       "<table border=\"1\" class=\"dataframe\">\n",
       "  <thead>\n",
       "    <tr style=\"text-align: right;\">\n",
       "      <th></th>\n",
       "      <th>GROUP</th>\n",
       "      <th>CODE</th>\n",
       "      <th>NAME</th>\n",
       "      <th>YEAR</th>\n",
       "      <th>DISEASE</th>\n",
       "      <th>DISEASE_DESCRIPTION</th>\n",
       "      <th>DENOMINATOR</th>\n",
       "      <th>INCIDENCE_RATE</th>\n",
       "    </tr>\n",
       "  </thead>\n",
       "  <tbody>\n",
       "    <tr>\n",
       "      <th>0</th>\n",
       "      <td>COUNTRIES</td>\n",
       "      <td>ABW</td>\n",
       "      <td>Aruba</td>\n",
       "      <td>2023.0</td>\n",
       "      <td>CRS</td>\n",
       "      <td>Congenital rubella syndrome</td>\n",
       "      <td>per 10,000 live births</td>\n",
       "      <td>0.0</td>\n",
       "    </tr>\n",
       "    <tr>\n",
       "      <th>1</th>\n",
       "      <td>COUNTRIES</td>\n",
       "      <td>ABW</td>\n",
       "      <td>Aruba</td>\n",
       "      <td>2023.0</td>\n",
       "      <td>DIPHTHERIA</td>\n",
       "      <td>Diphtheria</td>\n",
       "      <td>per 1,000,000 total population</td>\n",
       "      <td>0.0</td>\n",
       "    </tr>\n",
       "    <tr>\n",
       "      <th>2</th>\n",
       "      <td>COUNTRIES</td>\n",
       "      <td>ABW</td>\n",
       "      <td>Aruba</td>\n",
       "      <td>2023.0</td>\n",
       "      <td>INVASIVE_MENING</td>\n",
       "      <td>Invasive meningococcal disease</td>\n",
       "      <td>per 1,000,000 total population</td>\n",
       "      <td>9.3</td>\n",
       "    </tr>\n",
       "    <tr>\n",
       "      <th>3</th>\n",
       "      <td>COUNTRIES</td>\n",
       "      <td>ABW</td>\n",
       "      <td>Aruba</td>\n",
       "      <td>2023.0</td>\n",
       "      <td>MEASLES</td>\n",
       "      <td>Measles</td>\n",
       "      <td>per 1,000,000 total population</td>\n",
       "      <td>NaN</td>\n",
       "    </tr>\n",
       "    <tr>\n",
       "      <th>4</th>\n",
       "      <td>COUNTRIES</td>\n",
       "      <td>ABW</td>\n",
       "      <td>Aruba</td>\n",
       "      <td>2023.0</td>\n",
       "      <td>MUMPS</td>\n",
       "      <td>Mumps</td>\n",
       "      <td>per 1,000,000 total population</td>\n",
       "      <td>0.0</td>\n",
       "    </tr>\n",
       "  </tbody>\n",
       "</table>\n",
       "</div>"
      ]
     },
     "execution_count": 4,
     "metadata": {},
     "output_type": "execute_result"
    }
   ],
   "execution_count": 4
  },
  {
   "metadata": {
    "ExecuteTime": {
     "end_time": "2025-09-01T16:11:30.205664Z",
     "start_time": "2025-09-01T16:11:30.197663Z"
    }
   },
   "cell_type": "code",
   "source": "reported_cases_df.head()",
   "id": "36674fee9864b78c",
   "outputs": [
    {
     "data": {
      "text/plain": [
       "       GROUP CODE   NAME    YEAR          DISEASE  \\\n",
       "0  COUNTRIES  ABW  Aruba  2023.0              CRS   \n",
       "1  COUNTRIES  ABW  Aruba  2023.0       DIPHTHERIA   \n",
       "2  COUNTRIES  ABW  Aruba  2023.0  INVASIVE_MENING   \n",
       "3  COUNTRIES  ABW  Aruba  2023.0          MEASLES   \n",
       "4  COUNTRIES  ABW  Aruba  2023.0            MUMPS   \n",
       "\n",
       "              DISEASE_DESCRIPTION  CASES  \n",
       "0     Congenital rubella syndrome    0.0  \n",
       "1                      Diphtheria    0.0  \n",
       "2  Invasive meningococcal disease    1.0  \n",
       "3                         Measles    NaN  \n",
       "4                           Mumps    0.0  "
      ],
      "text/html": [
       "<div>\n",
       "<style scoped>\n",
       "    .dataframe tbody tr th:only-of-type {\n",
       "        vertical-align: middle;\n",
       "    }\n",
       "\n",
       "    .dataframe tbody tr th {\n",
       "        vertical-align: top;\n",
       "    }\n",
       "\n",
       "    .dataframe thead th {\n",
       "        text-align: right;\n",
       "    }\n",
       "</style>\n",
       "<table border=\"1\" class=\"dataframe\">\n",
       "  <thead>\n",
       "    <tr style=\"text-align: right;\">\n",
       "      <th></th>\n",
       "      <th>GROUP</th>\n",
       "      <th>CODE</th>\n",
       "      <th>NAME</th>\n",
       "      <th>YEAR</th>\n",
       "      <th>DISEASE</th>\n",
       "      <th>DISEASE_DESCRIPTION</th>\n",
       "      <th>CASES</th>\n",
       "    </tr>\n",
       "  </thead>\n",
       "  <tbody>\n",
       "    <tr>\n",
       "      <th>0</th>\n",
       "      <td>COUNTRIES</td>\n",
       "      <td>ABW</td>\n",
       "      <td>Aruba</td>\n",
       "      <td>2023.0</td>\n",
       "      <td>CRS</td>\n",
       "      <td>Congenital rubella syndrome</td>\n",
       "      <td>0.0</td>\n",
       "    </tr>\n",
       "    <tr>\n",
       "      <th>1</th>\n",
       "      <td>COUNTRIES</td>\n",
       "      <td>ABW</td>\n",
       "      <td>Aruba</td>\n",
       "      <td>2023.0</td>\n",
       "      <td>DIPHTHERIA</td>\n",
       "      <td>Diphtheria</td>\n",
       "      <td>0.0</td>\n",
       "    </tr>\n",
       "    <tr>\n",
       "      <th>2</th>\n",
       "      <td>COUNTRIES</td>\n",
       "      <td>ABW</td>\n",
       "      <td>Aruba</td>\n",
       "      <td>2023.0</td>\n",
       "      <td>INVASIVE_MENING</td>\n",
       "      <td>Invasive meningococcal disease</td>\n",
       "      <td>1.0</td>\n",
       "    </tr>\n",
       "    <tr>\n",
       "      <th>3</th>\n",
       "      <td>COUNTRIES</td>\n",
       "      <td>ABW</td>\n",
       "      <td>Aruba</td>\n",
       "      <td>2023.0</td>\n",
       "      <td>MEASLES</td>\n",
       "      <td>Measles</td>\n",
       "      <td>NaN</td>\n",
       "    </tr>\n",
       "    <tr>\n",
       "      <th>4</th>\n",
       "      <td>COUNTRIES</td>\n",
       "      <td>ABW</td>\n",
       "      <td>Aruba</td>\n",
       "      <td>2023.0</td>\n",
       "      <td>MUMPS</td>\n",
       "      <td>Mumps</td>\n",
       "      <td>0.0</td>\n",
       "    </tr>\n",
       "  </tbody>\n",
       "</table>\n",
       "</div>"
      ]
     },
     "execution_count": 5,
     "metadata": {},
     "output_type": "execute_result"
    }
   ],
   "execution_count": 5
  },
  {
   "metadata": {
    "ExecuteTime": {
     "end_time": "2025-09-01T16:11:30.224135Z",
     "start_time": "2025-09-01T16:11:30.216125Z"
    }
   },
   "cell_type": "code",
   "source": "vaccine_introduction_df.head()",
   "id": "aa1eb87d420910be",
   "outputs": [
    {
     "data": {
      "text/plain": [
       "  ISO_3_CODE  COUNTRYNAME WHO_REGION    YEAR  \\\n",
       "0        AFG  Afghanistan       EMRO  2023.0   \n",
       "1        AFG  Afghanistan       EMRO  2023.0   \n",
       "2        AFG  Afghanistan       EMRO  2023.0   \n",
       "3        AFG  Afghanistan       EMRO  2023.0   \n",
       "4        AFG  Afghanistan       EMRO  2023.0   \n",
       "\n",
       "                                   DESCRIPTION INTRO  \n",
       "0             aP (acellular pertussis) vaccine    No  \n",
       "1                          Hepatitis A vaccine    No  \n",
       "2                          Hepatitis B vaccine   Yes  \n",
       "3                              HepB birth dose   Yes  \n",
       "4  Hib (Haemophilus influenzae type B) vaccine   Yes  "
      ],
      "text/html": [
       "<div>\n",
       "<style scoped>\n",
       "    .dataframe tbody tr th:only-of-type {\n",
       "        vertical-align: middle;\n",
       "    }\n",
       "\n",
       "    .dataframe tbody tr th {\n",
       "        vertical-align: top;\n",
       "    }\n",
       "\n",
       "    .dataframe thead th {\n",
       "        text-align: right;\n",
       "    }\n",
       "</style>\n",
       "<table border=\"1\" class=\"dataframe\">\n",
       "  <thead>\n",
       "    <tr style=\"text-align: right;\">\n",
       "      <th></th>\n",
       "      <th>ISO_3_CODE</th>\n",
       "      <th>COUNTRYNAME</th>\n",
       "      <th>WHO_REGION</th>\n",
       "      <th>YEAR</th>\n",
       "      <th>DESCRIPTION</th>\n",
       "      <th>INTRO</th>\n",
       "    </tr>\n",
       "  </thead>\n",
       "  <tbody>\n",
       "    <tr>\n",
       "      <th>0</th>\n",
       "      <td>AFG</td>\n",
       "      <td>Afghanistan</td>\n",
       "      <td>EMRO</td>\n",
       "      <td>2023.0</td>\n",
       "      <td>aP (acellular pertussis) vaccine</td>\n",
       "      <td>No</td>\n",
       "    </tr>\n",
       "    <tr>\n",
       "      <th>1</th>\n",
       "      <td>AFG</td>\n",
       "      <td>Afghanistan</td>\n",
       "      <td>EMRO</td>\n",
       "      <td>2023.0</td>\n",
       "      <td>Hepatitis A vaccine</td>\n",
       "      <td>No</td>\n",
       "    </tr>\n",
       "    <tr>\n",
       "      <th>2</th>\n",
       "      <td>AFG</td>\n",
       "      <td>Afghanistan</td>\n",
       "      <td>EMRO</td>\n",
       "      <td>2023.0</td>\n",
       "      <td>Hepatitis B vaccine</td>\n",
       "      <td>Yes</td>\n",
       "    </tr>\n",
       "    <tr>\n",
       "      <th>3</th>\n",
       "      <td>AFG</td>\n",
       "      <td>Afghanistan</td>\n",
       "      <td>EMRO</td>\n",
       "      <td>2023.0</td>\n",
       "      <td>HepB birth dose</td>\n",
       "      <td>Yes</td>\n",
       "    </tr>\n",
       "    <tr>\n",
       "      <th>4</th>\n",
       "      <td>AFG</td>\n",
       "      <td>Afghanistan</td>\n",
       "      <td>EMRO</td>\n",
       "      <td>2023.0</td>\n",
       "      <td>Hib (Haemophilus influenzae type B) vaccine</td>\n",
       "      <td>Yes</td>\n",
       "    </tr>\n",
       "  </tbody>\n",
       "</table>\n",
       "</div>"
      ]
     },
     "execution_count": 6,
     "metadata": {},
     "output_type": "execute_result"
    }
   ],
   "execution_count": 6
  },
  {
   "metadata": {
    "ExecuteTime": {
     "end_time": "2025-09-01T16:11:30.239590Z",
     "start_time": "2025-09-01T16:11:30.230142Z"
    }
   },
   "cell_type": "code",
   "source": "vaccine_schedule_df.head()",
   "id": "4b04eaafc8a3914f",
   "outputs": [
    {
     "data": {
      "text/plain": [
       "  ISO_3_CODE COUNTRYNAME WHO_REGION    YEAR VACCINECODE  \\\n",
       "0        ABW       Aruba       AMRO  2023.0  DTAPHIBIPV   \n",
       "1        ABW       Aruba       AMRO  2023.0  DTAPHIBIPV   \n",
       "2        ABW       Aruba       AMRO  2023.0  DTAPHIBIPV   \n",
       "3        ABW       Aruba       AMRO  2023.0  DTAPHIBIPV   \n",
       "4        ABW       Aruba       AMRO  2023.0     DTAPIPV   \n",
       "\n",
       "                VACCINE_DESCRIPTION  SCHEDULEROUNDS  TARGETPOP  \\\n",
       "0  DTaP-Hib-IPV (acellular) vaccine             1.0        NaN   \n",
       "1  DTaP-Hib-IPV (acellular) vaccine             2.0        NaN   \n",
       "2  DTaP-Hib-IPV (acellular) vaccine             3.0        NaN   \n",
       "3  DTaP-Hib-IPV (acellular) vaccine             4.0    B_2YL_W   \n",
       "4      DTaP-IPV (acellular) vaccine             5.0  B_CHILD_W   \n",
       "\n",
       "  TARGETPOP_DESCRIPTION   GEOAREA AGEADMINISTERED SOURCECOMMENT  \n",
       "0       General/routine  NATIONAL              M2           NaN  \n",
       "1       General/routine  NATIONAL              M4           NaN  \n",
       "2       General/routine  NATIONAL              M6           NaN  \n",
       "3       General/routine  NATIONAL             M15           NaN  \n",
       "4       General/routine  NATIONAL              Y4           NaN  "
      ],
      "text/html": [
       "<div>\n",
       "<style scoped>\n",
       "    .dataframe tbody tr th:only-of-type {\n",
       "        vertical-align: middle;\n",
       "    }\n",
       "\n",
       "    .dataframe tbody tr th {\n",
       "        vertical-align: top;\n",
       "    }\n",
       "\n",
       "    .dataframe thead th {\n",
       "        text-align: right;\n",
       "    }\n",
       "</style>\n",
       "<table border=\"1\" class=\"dataframe\">\n",
       "  <thead>\n",
       "    <tr style=\"text-align: right;\">\n",
       "      <th></th>\n",
       "      <th>ISO_3_CODE</th>\n",
       "      <th>COUNTRYNAME</th>\n",
       "      <th>WHO_REGION</th>\n",
       "      <th>YEAR</th>\n",
       "      <th>VACCINECODE</th>\n",
       "      <th>VACCINE_DESCRIPTION</th>\n",
       "      <th>SCHEDULEROUNDS</th>\n",
       "      <th>TARGETPOP</th>\n",
       "      <th>TARGETPOP_DESCRIPTION</th>\n",
       "      <th>GEOAREA</th>\n",
       "      <th>AGEADMINISTERED</th>\n",
       "      <th>SOURCECOMMENT</th>\n",
       "    </tr>\n",
       "  </thead>\n",
       "  <tbody>\n",
       "    <tr>\n",
       "      <th>0</th>\n",
       "      <td>ABW</td>\n",
       "      <td>Aruba</td>\n",
       "      <td>AMRO</td>\n",
       "      <td>2023.0</td>\n",
       "      <td>DTAPHIBIPV</td>\n",
       "      <td>DTaP-Hib-IPV (acellular) vaccine</td>\n",
       "      <td>1.0</td>\n",
       "      <td>NaN</td>\n",
       "      <td>General/routine</td>\n",
       "      <td>NATIONAL</td>\n",
       "      <td>M2</td>\n",
       "      <td>NaN</td>\n",
       "    </tr>\n",
       "    <tr>\n",
       "      <th>1</th>\n",
       "      <td>ABW</td>\n",
       "      <td>Aruba</td>\n",
       "      <td>AMRO</td>\n",
       "      <td>2023.0</td>\n",
       "      <td>DTAPHIBIPV</td>\n",
       "      <td>DTaP-Hib-IPV (acellular) vaccine</td>\n",
       "      <td>2.0</td>\n",
       "      <td>NaN</td>\n",
       "      <td>General/routine</td>\n",
       "      <td>NATIONAL</td>\n",
       "      <td>M4</td>\n",
       "      <td>NaN</td>\n",
       "    </tr>\n",
       "    <tr>\n",
       "      <th>2</th>\n",
       "      <td>ABW</td>\n",
       "      <td>Aruba</td>\n",
       "      <td>AMRO</td>\n",
       "      <td>2023.0</td>\n",
       "      <td>DTAPHIBIPV</td>\n",
       "      <td>DTaP-Hib-IPV (acellular) vaccine</td>\n",
       "      <td>3.0</td>\n",
       "      <td>NaN</td>\n",
       "      <td>General/routine</td>\n",
       "      <td>NATIONAL</td>\n",
       "      <td>M6</td>\n",
       "      <td>NaN</td>\n",
       "    </tr>\n",
       "    <tr>\n",
       "      <th>3</th>\n",
       "      <td>ABW</td>\n",
       "      <td>Aruba</td>\n",
       "      <td>AMRO</td>\n",
       "      <td>2023.0</td>\n",
       "      <td>DTAPHIBIPV</td>\n",
       "      <td>DTaP-Hib-IPV (acellular) vaccine</td>\n",
       "      <td>4.0</td>\n",
       "      <td>B_2YL_W</td>\n",
       "      <td>General/routine</td>\n",
       "      <td>NATIONAL</td>\n",
       "      <td>M15</td>\n",
       "      <td>NaN</td>\n",
       "    </tr>\n",
       "    <tr>\n",
       "      <th>4</th>\n",
       "      <td>ABW</td>\n",
       "      <td>Aruba</td>\n",
       "      <td>AMRO</td>\n",
       "      <td>2023.0</td>\n",
       "      <td>DTAPIPV</td>\n",
       "      <td>DTaP-IPV (acellular) vaccine</td>\n",
       "      <td>5.0</td>\n",
       "      <td>B_CHILD_W</td>\n",
       "      <td>General/routine</td>\n",
       "      <td>NATIONAL</td>\n",
       "      <td>Y4</td>\n",
       "      <td>NaN</td>\n",
       "    </tr>\n",
       "  </tbody>\n",
       "</table>\n",
       "</div>"
      ]
     },
     "execution_count": 7,
     "metadata": {},
     "output_type": "execute_result"
    }
   ],
   "execution_count": 7
  },
  {
   "metadata": {
    "ExecuteTime": {
     "end_time": "2025-09-01T16:11:30.259087Z",
     "start_time": "2025-09-01T16:11:30.253260Z"
    }
   },
   "cell_type": "code",
   "source": [
    "# Dataset Columns\n",
    "print(\"Coverage Data: \",coverage_df.columns)\n",
    "print(\"Incidence Rate Data: \",incidence_rate_df.columns)\n",
    "print(\"Reported Cases Data: \",reported_cases_df.columns)\n",
    "print(\"Vaccine Introduction Data: \",vaccine_introduction_df.columns)\n",
    "print(\"Vaccine Schedule Data: \",vaccine_schedule_df.columns)"
   ],
   "id": "17debe369c367705",
   "outputs": [
    {
     "name": "stdout",
     "output_type": "stream",
     "text": [
      "Coverage Data:  Index(['GROUP', 'CODE', 'NAME', 'YEAR', 'ANTIGEN', 'ANTIGEN_DESCRIPTION',\n",
      "       'COVERAGE_CATEGORY', 'COVERAGE_CATEGORY_DESCRIPTION', 'TARGET_NUMBER',\n",
      "       'DOSES', 'COVERAGE'],\n",
      "      dtype='object')\n",
      "Incidence Rate Data:  Index(['GROUP', 'CODE', 'NAME', 'YEAR', 'DISEASE', 'DISEASE_DESCRIPTION',\n",
      "       'DENOMINATOR', 'INCIDENCE_RATE'],\n",
      "      dtype='object')\n",
      "Reported Cases Data:  Index(['GROUP', 'CODE', 'NAME', 'YEAR', 'DISEASE', 'DISEASE_DESCRIPTION',\n",
      "       'CASES'],\n",
      "      dtype='object')\n",
      "Vaccine Introduction Data:  Index(['ISO_3_CODE', 'COUNTRYNAME', 'WHO_REGION', 'YEAR', 'DESCRIPTION',\n",
      "       'INTRO'],\n",
      "      dtype='object')\n",
      "Vaccine Schedule Data:  Index(['ISO_3_CODE', 'COUNTRYNAME', 'WHO_REGION', 'YEAR', 'VACCINECODE',\n",
      "       'VACCINE_DESCRIPTION', 'SCHEDULEROUNDS', 'TARGETPOP',\n",
      "       'TARGETPOP_DESCRIPTION', 'GEOAREA', 'AGEADMINISTERED', 'SOURCECOMMENT'],\n",
      "      dtype='object')\n"
     ]
    }
   ],
   "execution_count": 8
  },
  {
   "metadata": {
    "ExecuteTime": {
     "end_time": "2025-09-01T16:11:30.270380Z",
     "start_time": "2025-09-01T16:11:30.266380Z"
    }
   },
   "cell_type": "code",
   "source": [
    "# Dimension of dataset\n",
    "print(\"Coverage Data: \",coverage_df.shape)\n",
    "print(\"Incidence Rate Data: \",incidence_rate_df.shape)\n",
    "print(\"Reported Cases Data: \",reported_cases_df.shape)\n",
    "print(\"Vaccine Introduction Data: \",vaccine_introduction_df.shape)\n",
    "print(\"Vaccine Schedule Data: \",vaccine_schedule_df.shape)"
   ],
   "id": "fa943882ee014c8f",
   "outputs": [
    {
     "name": "stdout",
     "output_type": "stream",
     "text": [
      "Coverage Data:  (399859, 11)\n",
      "Incidence Rate Data:  (84946, 8)\n",
      "Reported Cases Data:  (84870, 7)\n",
      "Vaccine Introduction Data:  (138321, 6)\n",
      "Vaccine Schedule Data:  (8053, 12)\n"
     ]
    }
   ],
   "execution_count": 9
  },
  {
   "metadata": {},
   "cell_type": "markdown",
   "source": "#### Handling Missing Values",
   "id": "54cc630fd6310ff7"
  },
  {
   "metadata": {},
   "cell_type": "markdown",
   "source": "##### Coverage Data",
   "id": "2608548d7b02a3c"
  },
  {
   "metadata": {
    "ExecuteTime": {
     "end_time": "2025-09-01T16:11:30.351202Z",
     "start_time": "2025-09-01T16:11:30.281895Z"
    }
   },
   "cell_type": "code",
   "source": [
    "# Coverage Data Null Values\n",
    "coverage_df.isnull().sum()"
   ],
   "id": "4a17e2dc7f5929d",
   "outputs": [
    {
     "data": {
      "text/plain": [
       "GROUP                                 0\n",
       "CODE                                  1\n",
       "NAME                               1275\n",
       "YEAR                                  1\n",
       "ANTIGEN                               1\n",
       "ANTIGEN_DESCRIPTION                   1\n",
       "COVERAGE_CATEGORY                     1\n",
       "COVERAGE_CATEGORY_DESCRIPTION         1\n",
       "TARGET_NUMBER                    320829\n",
       "DOSES                            320532\n",
       "COVERAGE                         169382\n",
       "dtype: int64"
      ]
     },
     "execution_count": 10,
     "metadata": {},
     "output_type": "execute_result"
    }
   ],
   "execution_count": 10
  },
  {
   "metadata": {
    "ExecuteTime": {
     "end_time": "2025-09-01T16:11:30.865560Z",
     "start_time": "2025-09-01T16:11:30.377485Z"
    }
   },
   "cell_type": "code",
   "source": [
    "# Drop rows with critical missing small counts\n",
    "coverage_df = coverage_df.dropna(subset=[\n",
    "    'CODE', 'NAME', 'YEAR',\n",
    "    'ANTIGEN', 'ANTIGEN_DESCRIPTION',\n",
    "    'COVERAGE_CATEGORY', 'COVERAGE_CATEGORY_DESCRIPTION'\n",
    "])\n",
    "\n",
    "# Drop unnecessary high-missing columns\n",
    "coverage_df = coverage_df.drop(columns=['DOSES', 'TARGET_NUMBER'])\n",
    "\n",
    "# Impute COVERAGE using group median safely\n",
    "coverage_df['COVERAGE'] = coverage_df.groupby(['ANTIGEN', 'YEAR'])['COVERAGE']\\\n",
    "    .transform(lambda x: x.fillna(x.median()) if x.notna().any() else x)\n",
    "\n",
    "# Fill remaining NaNs with global median\n",
    "coverage_df['COVERAGE'] = coverage_df['COVERAGE'].fillna(coverage_df['COVERAGE'].median())\n",
    "\n",
    "print(\"Remaining null values:\\n\", coverage_df.isna().sum())\n",
    "print(\"Final shape:\", coverage_df.shape)"
   ],
   "id": "fe2ef740fd312986",
   "outputs": [
    {
     "name": "stdout",
     "output_type": "stream",
     "text": [
      "Remaining null values:\n",
      " GROUP                            0\n",
      "CODE                             0\n",
      "NAME                             0\n",
      "YEAR                             0\n",
      "ANTIGEN                          0\n",
      "ANTIGEN_DESCRIPTION              0\n",
      "COVERAGE_CATEGORY                0\n",
      "COVERAGE_CATEGORY_DESCRIPTION    0\n",
      "COVERAGE                         0\n",
      "dtype: int64\n",
      "Final shape: (398584, 9)\n"
     ]
    }
   ],
   "execution_count": 11
  },
  {
   "metadata": {},
   "cell_type": "markdown",
   "source": "##### Incidence Rate Data",
   "id": "8fe14ce926a527bf"
  },
  {
   "metadata": {
    "ExecuteTime": {
     "end_time": "2025-09-01T16:11:30.900202Z",
     "start_time": "2025-09-01T16:11:30.882924Z"
    }
   },
   "cell_type": "code",
   "source": [
    "# Incidence Rate Data Null Values\n",
    "incidence_rate_df.isnull().sum()"
   ],
   "id": "4a4296a4a91552bf",
   "outputs": [
    {
     "data": {
      "text/plain": [
       "GROUP                      0\n",
       "CODE                       1\n",
       "NAME                       1\n",
       "YEAR                       1\n",
       "DISEASE                    1\n",
       "DISEASE_DESCRIPTION        1\n",
       "DENOMINATOR                1\n",
       "INCIDENCE_RATE         23362\n",
       "dtype: int64"
      ]
     },
     "execution_count": 12,
     "metadata": {},
     "output_type": "execute_result"
    }
   ],
   "execution_count": 12
  },
  {
   "metadata": {
    "ExecuteTime": {
     "end_time": "2025-09-01T16:11:31.050196Z",
     "start_time": "2025-09-01T16:11:30.911198Z"
    }
   },
   "cell_type": "code",
   "source": [
    "# Drop rows with critical missing values\n",
    "incidence_rate_df = incidence_rate_df.dropna(subset=[\n",
    "    'CODE', 'NAME', 'YEAR', 'DISEASE', 'DISEASE_DESCRIPTION', 'DENOMINATOR'\n",
    "])\n",
    "\n",
    "# Impute INCIDENCE_RATE using group median safely\n",
    "incidence_rate_df['INCIDENCE_RATE'] = incidence_rate_df.groupby(['DISEASE', 'YEAR'])['INCIDENCE_RATE']\\\n",
    "    .transform(lambda x: x.fillna(x.median()) if x.notna().any() else x)\n",
    "\n",
    "# Fill remaining NaNs with global median\n",
    "incidence_rate_df['INCIDENCE_RATE'] = incidence_rate_df['INCIDENCE_RATE'].fillna(incidence_rate_df['INCIDENCE_RATE'].median())\n",
    "\n",
    "print(\"Remaining null values:\\n\", incidence_rate_df.isna().sum())\n",
    "print(\"Final shape:\", incidence_rate_df.shape)"
   ],
   "id": "1febe00c8bf0a0a6",
   "outputs": [
    {
     "name": "stdout",
     "output_type": "stream",
     "text": [
      "Remaining null values:\n",
      " GROUP                  0\n",
      "CODE                   0\n",
      "NAME                   0\n",
      "YEAR                   0\n",
      "DISEASE                0\n",
      "DISEASE_DESCRIPTION    0\n",
      "DENOMINATOR            0\n",
      "INCIDENCE_RATE         0\n",
      "dtype: int64\n",
      "Final shape: (84945, 8)\n"
     ]
    }
   ],
   "execution_count": 13
  },
  {
   "metadata": {},
   "cell_type": "markdown",
   "source": "##### Reported Cases Data",
   "id": "d40b23a99cdfb8f9"
  },
  {
   "metadata": {
    "ExecuteTime": {
     "end_time": "2025-09-01T16:11:31.079708Z",
     "start_time": "2025-09-01T16:11:31.063708Z"
    }
   },
   "cell_type": "code",
   "source": [
    "# Reported Case Data Nul Values\n",
    "reported_cases_df.isnull().sum()"
   ],
   "id": "85b967442d4922de",
   "outputs": [
    {
     "data": {
      "text/plain": [
       "GROUP                      0\n",
       "CODE                       1\n",
       "NAME                       1\n",
       "YEAR                       1\n",
       "DISEASE                    1\n",
       "DISEASE_DESCRIPTION        1\n",
       "CASES                  19400\n",
       "dtype: int64"
      ]
     },
     "execution_count": 14,
     "metadata": {},
     "output_type": "execute_result"
    }
   ],
   "execution_count": 14
  },
  {
   "metadata": {
    "ExecuteTime": {
     "end_time": "2025-09-01T16:11:31.226182Z",
     "start_time": "2025-09-01T16:11:31.091738Z"
    }
   },
   "cell_type": "code",
   "source": [
    "# Drop rows with critical missing values\n",
    "reported_cases_df = reported_cases_df.dropna(subset=[\n",
    "    'CODE', 'NAME', 'YEAR', 'DISEASE', 'DISEASE_DESCRIPTION'\n",
    "])\n",
    "\n",
    "# Impute CASES using group median safely\n",
    "reported_cases_df['CASES'] = reported_cases_df.groupby(['DISEASE', 'YEAR'])['CASES']\\\n",
    "    .transform(lambda x: x.fillna(x.median()) if x.notna().any() else x)\n",
    "\n",
    "# Fill remaining NaNs with global median\n",
    "reported_cases_df['CASES'] = reported_cases_df['CASES'].fillna(reported_cases_df['CASES'].median())\n",
    "\n",
    "print(\"Remaining null values:\\n\", reported_cases_df.isna().sum())\n",
    "print(\"Final shape:\", reported_cases_df.shape)"
   ],
   "id": "f2ab8e90998fd876",
   "outputs": [
    {
     "name": "stdout",
     "output_type": "stream",
     "text": [
      "Remaining null values:\n",
      " GROUP                  0\n",
      "CODE                   0\n",
      "NAME                   0\n",
      "YEAR                   0\n",
      "DISEASE                0\n",
      "DISEASE_DESCRIPTION    0\n",
      "CASES                  0\n",
      "dtype: int64\n",
      "Final shape: (84869, 7)\n"
     ]
    }
   ],
   "execution_count": 15
  },
  {
   "metadata": {},
   "cell_type": "markdown",
   "source": "##### Vaccine Introduction Data",
   "id": "4ca9d8d4ea5f2333"
  },
  {
   "metadata": {
    "ExecuteTime": {
     "end_time": "2025-09-01T16:11:31.260187Z",
     "start_time": "2025-09-01T16:11:31.239187Z"
    }
   },
   "cell_type": "code",
   "source": [
    "# Vaccine Introduction Data Null Values\n",
    "vaccine_introduction_df.isnull().sum()"
   ],
   "id": "9c60d47d6e53b2d9",
   "outputs": [
    {
     "data": {
      "text/plain": [
       "ISO_3_CODE     0\n",
       "COUNTRYNAME    1\n",
       "WHO_REGION     1\n",
       "YEAR           1\n",
       "DESCRIPTION    1\n",
       "INTRO          1\n",
       "dtype: int64"
      ]
     },
     "execution_count": 16,
     "metadata": {},
     "output_type": "execute_result"
    }
   ],
   "execution_count": 16
  },
  {
   "metadata": {
    "ExecuteTime": {
     "end_time": "2025-09-01T16:11:31.307133Z",
     "start_time": "2025-09-01T16:11:31.267698Z"
    }
   },
   "cell_type": "code",
   "source": [
    "# Drop rows with missing values in key columns\n",
    "vaccine_introduction_df = vaccine_introduction_df.dropna(subset=[\n",
    "    'COUNTRYNAME', 'WHO_REGION', 'YEAR', 'DESCRIPTION', 'INTRO'\n",
    "])\n",
    "\n",
    "print(\"Remaining null values:\\n\", vaccine_introduction_df.isna().sum())\n",
    "print(\"Final shape:\", vaccine_introduction_df.shape)"
   ],
   "id": "9b91275d3a10d6a4",
   "outputs": [
    {
     "name": "stdout",
     "output_type": "stream",
     "text": [
      "Remaining null values:\n",
      " ISO_3_CODE     0\n",
      "COUNTRYNAME    0\n",
      "WHO_REGION     0\n",
      "YEAR           0\n",
      "DESCRIPTION    0\n",
      "INTRO          0\n",
      "dtype: int64\n",
      "Final shape: (138320, 6)\n"
     ]
    }
   ],
   "execution_count": 17
  },
  {
   "metadata": {},
   "cell_type": "markdown",
   "source": "##### Vaccine Schedule Data",
   "id": "551e7d65da1c6c06"
  },
  {
   "metadata": {
    "ExecuteTime": {
     "end_time": "2025-09-01T16:11:31.320139Z",
     "start_time": "2025-09-01T16:11:31.313139Z"
    }
   },
   "cell_type": "code",
   "source": [
    "# Vaccine Schedule Data Null Values\n",
    "vaccine_schedule_df.isnull().sum()"
   ],
   "id": "e0044d0fd64b504c",
   "outputs": [
    {
     "data": {
      "text/plain": [
       "ISO_3_CODE                  0\n",
       "COUNTRYNAME                 1\n",
       "WHO_REGION                  1\n",
       "YEAR                        1\n",
       "VACCINECODE                 1\n",
       "VACCINE_DESCRIPTION         1\n",
       "SCHEDULEROUNDS              1\n",
       "TARGETPOP                4258\n",
       "TARGETPOP_DESCRIPTION       1\n",
       "GEOAREA                    31\n",
       "AGEADMINISTERED          1046\n",
       "SOURCECOMMENT            2914\n",
       "dtype: int64"
      ]
     },
     "execution_count": 18,
     "metadata": {},
     "output_type": "execute_result"
    }
   ],
   "execution_count": 18
  },
  {
   "metadata": {
    "ExecuteTime": {
     "end_time": "2025-09-01T16:11:31.343654Z",
     "start_time": "2025-09-01T16:11:31.329650Z"
    }
   },
   "cell_type": "code",
   "source": [
    "# Drop rows where critical info is missing\n",
    "vaccine_schedule_df = vaccine_schedule_df.dropna(subset=[\n",
    "    'COUNTRYNAME', 'WHO_REGION', 'YEAR',\n",
    "    'VACCINECODE', 'VACCINE_DESCRIPTION',\n",
    "    'SCHEDULEROUNDS', 'TARGETPOP_DESCRIPTION'\n",
    "])\n",
    "\n",
    "# Fill categorical missing values\n",
    "vaccine_schedule_df['TARGETPOP'] = vaccine_schedule_df['TARGETPOP'].fillna(\"Unknown\")\n",
    "vaccine_schedule_df['AGEADMINISTERED'] = vaccine_schedule_df['AGEADMINISTERED'].fillna(\"Not Specified\")\n",
    "vaccine_schedule_df['GEOAREA'] = vaccine_schedule_df['GEOAREA'].fillna(\"Not Specified\")\n",
    "\n",
    "# Drop SOURCECOMMENT\n",
    "vaccine_schedule_df = vaccine_schedule_df.drop(columns=['SOURCECOMMENT'])\n",
    "\n",
    "\n",
    "print(\"Remaining null values:\\n\", vaccine_schedule_df.isna().sum())\n",
    "print(\"Final shape:\", vaccine_schedule_df.shape)"
   ],
   "id": "5b438e4394259478",
   "outputs": [
    {
     "name": "stdout",
     "output_type": "stream",
     "text": [
      "Remaining null values:\n",
      " ISO_3_CODE               0\n",
      "COUNTRYNAME              0\n",
      "WHO_REGION               0\n",
      "YEAR                     0\n",
      "VACCINECODE              0\n",
      "VACCINE_DESCRIPTION      0\n",
      "SCHEDULEROUNDS           0\n",
      "TARGETPOP                0\n",
      "TARGETPOP_DESCRIPTION    0\n",
      "GEOAREA                  0\n",
      "AGEADMINISTERED          0\n",
      "dtype: int64\n",
      "Final shape: (8052, 11)\n"
     ]
    }
   ],
   "execution_count": 19
  },
  {
   "metadata": {},
   "cell_type": "markdown",
   "source": "#### Normalizing Units",
   "id": "79b4afb1eb496d3b"
  },
  {
   "metadata": {
    "ExecuteTime": {
     "end_time": "2025-09-01T16:11:31.384537Z",
     "start_time": "2025-09-01T16:11:31.353683Z"
    }
   },
   "cell_type": "code",
   "source": [
    "# Coverage Data Normalization\n",
    "coverage_df['COVERAGE'] = coverage_df['COVERAGE'].clip(lower=0, upper=100)\n",
    "\n",
    "# Incidence Rate Data Normalization\n",
    "incidence_cap = incidence_rate_df['INCIDENCE_RATE'].quantile(0.99)\n",
    "incidence_rate_df['INCIDENCE_RATE'] = incidence_rate_df['INCIDENCE_RATE'].clip(lower=0, upper=incidence_cap)\n",
    "\n",
    "# Vaccine Introduction Data Normalization\n",
    "vaccine_introduction_df['INTRO'] = vaccine_introduction_df['INTRO'].replace({\n",
    "    'Yes (R)': 'Yes',\n",
    "    'Yes (P)': 'Yes',\n",
    "    'Yes (A)': 'Yes',\n",
    "    'Yes (O)': 'Yes',\n",
    "    'Yes (D)': 'Yes'\n",
    "})"
   ],
   "id": "12516abb6731c14f",
   "outputs": [],
   "execution_count": 20
  },
  {
   "metadata": {
    "ExecuteTime": {
     "end_time": "2025-09-01T16:11:31.398975Z",
     "start_time": "2025-09-01T16:11:31.388542Z"
    }
   },
   "cell_type": "code",
   "source": [
    "# Function to normalize AGEADMINISTERED into months\n",
    "def normalize_age(age):\n",
    "    if pd.isna(age):\n",
    "        return None\n",
    "\n",
    "    age = str(age).strip()\n",
    "\n",
    "    # Skip ranges like \"15-Y49\"\n",
    "    if \"-\" in age:\n",
    "        return None\n",
    "\n",
    "    try:\n",
    "        if age.startswith('M'):\n",
    "            return float(age[1:])\n",
    "\n",
    "        if age.startswith('Y'):\n",
    "            return float(age[1:]) * 12\n",
    "\n",
    "        if age.startswith('+M'):\n",
    "            return float(age[2:])\n",
    "\n",
    "        if age.startswith('+Y'):\n",
    "            return float(age[2:]) * 12\n",
    "    except:\n",
    "        return None\n",
    "\n",
    "    return None\n",
    "\n",
    "# Apply normalization to dataset\n",
    "vaccine_schedule_df['AGEADMINISTERED_MONTHS'] = (\n",
    "    vaccine_schedule_df['AGEADMINISTERED']\n",
    "    .apply(normalize_age)\n",
    ")"
   ],
   "id": "ee0df0c48bd195ba",
   "outputs": [],
   "execution_count": 21
  },
  {
   "metadata": {},
   "cell_type": "markdown",
   "source": "#### Date Consistency",
   "id": "ef5a7001da9d6011"
  },
  {
   "metadata": {
    "ExecuteTime": {
     "end_time": "2025-09-01T16:11:31.409482Z",
     "start_time": "2025-09-01T16:11:31.402980Z"
    }
   },
   "cell_type": "code",
   "source": [
    "# Convert the years to integers\n",
    "for df in [coverage_df, incidence_rate_df, reported_cases_df]:\n",
    "    df['YEAR'] = df['YEAR'].astype(int)"
   ],
   "id": "d98c818b5716960f",
   "outputs": [],
   "execution_count": 22
  },
  {
   "metadata": {},
   "cell_type": "markdown",
   "source": "#### Export Cleaned Data",
   "id": "92e07d69dd11b374"
  },
  {
   "metadata": {
    "ExecuteTime": {
     "end_time": "2025-09-01T16:11:33.078856Z",
     "start_time": "2025-09-01T16:11:31.416857Z"
    }
   },
   "cell_type": "code",
   "source": [
    "# Create folder for cleaned CSVs\n",
    "output_folder = \"cleaned_data\"\n",
    "os.makedirs(output_folder, exist_ok=True)\n",
    "\n",
    "# Export cleaned DataFrames to CSV\n",
    "coverage_df.to_csv(f\"{output_folder}/coverage-data-cleaned.csv\", index=False)\n",
    "incidence_rate_df.to_csv(f\"{output_folder}/incidence-rate-data-cleaned.csv\", index=False)\n",
    "reported_cases_df.to_csv(f\"{output_folder}/reported-cases-data-cleaned.csv\", index=False)\n",
    "vaccine_introduction_df.to_csv(f\"{output_folder}/vaccine-introduction-data-cleaned.csv\", index=False)\n",
    "vaccine_schedule_df.to_csv(f\"{output_folder}/vaccine-schedule-data-cleaned.csv\", index=False)\n",
    "\n",
    "print(\"Cleaned CSV files exported to:\", os.path.abspath(output_folder))"
   ],
   "id": "5bec9e4eea0d4859",
   "outputs": [
    {
     "name": "stdout",
     "output_type": "stream",
     "text": [
      "Cleaned CSV files exported to: C:\\Users\\punee\\PycharmProjects\\Vaccination-Data-Analysis\\cleaned_data\n"
     ]
    }
   ],
   "execution_count": 23
  },
  {
   "metadata": {},
   "cell_type": "markdown",
   "source": "### Database Setup",
   "id": "556c83753d2b3235"
  },
  {
   "metadata": {
    "ExecuteTime": {
     "end_time": "2025-09-01T16:31:31.437989Z",
     "start_time": "2025-09-01T16:31:31.435050Z"
    }
   },
   "cell_type": "code",
   "source": [
    "import pymysql\n",
    "import numpy as np"
   ],
   "id": "bb43ae8af36ad1eb",
   "outputs": [],
   "execution_count": 51
  },
  {
   "metadata": {
    "ExecuteTime": {
     "end_time": "2025-09-01T16:31:32.532825Z",
     "start_time": "2025-09-01T16:31:32.525827Z"
    }
   },
   "cell_type": "code",
   "source": [
    "connection = pymysql.connect(\n",
    "    host=\"localhost\",\n",
    "    user=\"root\",\n",
    "    password=\"Aries@123\"\n",
    ")\n",
    "\n",
    "cursor = connection.cursor()\n",
    "print(\"Connection established successfully.\")"
   ],
   "id": "8113454efb606253",
   "outputs": [
    {
     "name": "stdout",
     "output_type": "stream",
     "text": [
      "Connection established successfully.\n"
     ]
    }
   ],
   "execution_count": 52
  },
  {
   "metadata": {
    "ExecuteTime": {
     "end_time": "2025-09-01T16:31:34.068328Z",
     "start_time": "2025-09-01T16:31:33.481326Z"
    }
   },
   "cell_type": "code",
   "source": [
    "# Load the cleaned Dataset\n",
    "coverage_df = pd.read_csv(\"cleaned_data/coverage-data-cleaned.csv\")\n",
    "incidence_rate_df = pd.read_csv(\"cleaned_data/incidence-rate-data-cleaned.csv\")\n",
    "reported_cases_df = pd.read_csv(\"cleaned_data/reported-cases-data-cleaned.csv\")\n",
    "vaccine_introduction_df = pd.read_csv(\"cleaned_data/vaccine-introduction-data-cleaned.csv\")\n",
    "vaccine_schedule_df = pd.read_csv(\"cleaned_data/vaccine-schedule-data-cleaned.csv\")\n",
    "\n",
    "print(\"Datasets loaded successfully.\")"
   ],
   "id": "90973f373198cfda",
   "outputs": [
    {
     "name": "stdout",
     "output_type": "stream",
     "text": [
      "Datasets loaded successfully.\n"
     ]
    }
   ],
   "execution_count": 53
  },
  {
   "metadata": {
    "ExecuteTime": {
     "end_time": "2025-09-01T16:31:35.416834Z",
     "start_time": "2025-09-01T16:31:35.404566Z"
    }
   },
   "cell_type": "code",
   "source": [
    "# Create Database\n",
    "cursor.execute(\"CREATE DATABASE IF NOT EXISTS VACCINE\")\n",
    "cursor.execute(\"USE VACCINE\")"
   ],
   "id": "272d83874c52d53e",
   "outputs": [
    {
     "data": {
      "text/plain": [
       "0"
      ]
     },
     "execution_count": 54,
     "metadata": {},
     "output_type": "execute_result"
    }
   ],
   "execution_count": 54
  },
  {
   "metadata": {
    "ExecuteTime": {
     "end_time": "2025-09-01T16:31:36.382976Z",
     "start_time": "2025-09-01T16:31:36.303016Z"
    }
   },
   "cell_type": "code",
   "source": [
    "# Create dimension tables\n",
    "\n",
    "cursor.execute(\"\"\"\n",
    "CREATE TABLE IF NOT EXISTS dim_country (\n",
    "    country_code VARCHAR(10) PRIMARY KEY,\n",
    "    country_name VARCHAR(255),\n",
    "    who_region VARCHAR(50)\n",
    ")\n",
    "\"\"\")\n",
    "\n",
    "cursor.execute(\"\"\"\n",
    "CREATE TABLE IF NOT EXISTS dim_year (\n",
    "    year INT PRIMARY KEY\n",
    ")\n",
    "\"\"\")\n",
    "\n",
    "cursor.execute(\"\"\"\n",
    "CREATE TABLE IF NOT EXISTS dim_disease (\n",
    "    disease_code VARCHAR(50) PRIMARY KEY,\n",
    "    disease_description VARCHAR(255)\n",
    ")\n",
    "\"\"\")\n",
    "\n",
    "cursor.execute(\"\"\"\n",
    "CREATE TABLE IF NOT EXISTS dim_vaccine (\n",
    "    vaccine_code VARCHAR(50) PRIMARY KEY,\n",
    "    vaccine_description VARCHAR(255)\n",
    ")\n",
    "\"\"\")\n",
    "\n",
    "connection.commit()\n",
    "print(\"Dimension tables created.\")"
   ],
   "id": "8dfbaee12fc8d399",
   "outputs": [
    {
     "name": "stdout",
     "output_type": "stream",
     "text": [
      "Dimension tables created.\n"
     ]
    }
   ],
   "execution_count": 55
  },
  {
   "metadata": {
    "ExecuteTime": {
     "end_time": "2025-09-01T16:31:38.752563Z",
     "start_time": "2025-09-01T16:31:38.598934Z"
    }
   },
   "cell_type": "code",
   "source": [
    "# Create Fact Tables\n",
    "\n",
    "cursor.execute(\"\"\"\n",
    "CREATE TABLE  IF NOT EXISTS fact_coverage (\n",
    "    id INT AUTO_INCREMENT PRIMARY KEY,\n",
    "    country_code VARCHAR(50),\n",
    "    year INT,\n",
    "    vaccine_code VARCHAR(50),\n",
    "    coverage_category VARCHAR(50),\n",
    "    coverage FLOAT,\n",
    "    FOREIGN KEY (country_code) REFERENCES dim_country(country_code),\n",
    "    FOREIGN KEY (year) REFERENCES dim_year(year),\n",
    "    FOREIGN KEY (vaccine_code) REFERENCES dim_vaccine(vaccine_code)\n",
    ")\n",
    "\"\"\")\n",
    "\n",
    "cursor.execute(\"\"\"\n",
    "CREATE TABLE IF NOT EXISTS fact_incidence (\n",
    "    id INT AUTO_INCREMENT PRIMARY KEY,\n",
    "    country_code VARCHAR(50),\n",
    "    year INT,\n",
    "    disease_code VARCHAR(50),\n",
    "    denominator VARCHAR(100),\n",
    "    incidence_rate FLOAT,\n",
    "    FOREIGN KEY (country_code) REFERENCES dim_country(country_code),\n",
    "    FOREIGN KEY (year) REFERENCES dim_year(year),\n",
    "    FOREIGN KEY (disease_code) REFERENCES dim_disease(disease_code)\n",
    ")\n",
    "\"\"\")\n",
    "\n",
    "cursor.execute(\"\"\"\n",
    "CREATE TABLE IF NOT EXISTS fact_cases (\n",
    "    id INT AUTO_INCREMENT PRIMARY KEY,\n",
    "    country_code VARCHAR(50),\n",
    "    year INT,\n",
    "    disease_code VARCHAR(50),\n",
    "    cases FLOAT,\n",
    "    FOREIGN KEY (country_code) REFERENCES dim_country(country_code),\n",
    "    FOREIGN KEY (year) REFERENCES dim_year(year),\n",
    "    FOREIGN KEY (disease_code) REFERENCES dim_disease(disease_code)\n",
    ")\n",
    "\"\"\")\n",
    "\n",
    "cursor.execute(\"\"\"\n",
    "CREATE TABLE IF NOT EXISTS fact_introduction (\n",
    "    id INT AUTO_INCREMENT PRIMARY KEY,\n",
    "    country_code VARCHAR(50),\n",
    "    year INT,\n",
    "    vaccine_description VARCHAR(255),\n",
    "    intro_status VARCHAR(50),\n",
    "    FOREIGN KEY (country_code) REFERENCES dim_country(country_code),\n",
    "    FOREIGN KEY (year) REFERENCES dim_year(year)\n",
    ")\n",
    "\"\"\")\n",
    "\n",
    "cursor.execute(\"\"\"\n",
    "CREATE TABLE IF NOT EXISTS fact_schedule (\n",
    "    id INT AUTO_INCREMENT PRIMARY KEY,\n",
    "    country_code VARCHAR(50),\n",
    "    year INT,\n",
    "    vaccine_code VARCHAR(50),\n",
    "    schedule_rounds INT,\n",
    "    target_population VARCHAR(50),\n",
    "    geo_area VARCHAR(50),\n",
    "    age_administered VARCHAR(50),\n",
    "    age_administered_months FLOAT,\n",
    "    FOREIGN KEY (country_code) REFERENCES dim_country(country_code),\n",
    "    FOREIGN KEY (year) REFERENCES dim_year(year),\n",
    "    FOREIGN KEY (vaccine_code) REFERENCES dim_vaccine(vaccine_code)\n",
    ")\n",
    "\"\"\")\n",
    "\n",
    "connection.commit()\n",
    "print(\"Fact tables created.\")\n"
   ],
   "id": "a8823335670558a3",
   "outputs": [
    {
     "name": "stdout",
     "output_type": "stream",
     "text": [
      "Fact tables created.\n"
     ]
    }
   ],
   "execution_count": 56
  },
  {
   "metadata": {
    "ExecuteTime": {
     "end_time": "2025-09-01T16:31:42.333175Z",
     "start_time": "2025-09-01T16:31:41.658418Z"
    }
   },
   "cell_type": "code",
   "source": [
    "# Insert Data into Dimensions\n",
    "\n",
    "# Countries (from multiple datasets)\n",
    "print(\"Populating dim_country with all unique countries...\")\n",
    "\n",
    "# Collect countries from all datasets\n",
    "countries_from_intro = vaccine_introduction_df[[\"ISO_3_CODE\", \"COUNTRYNAME\", \"WHO_REGION\"]]\n",
    "countries_from_schedule = vaccine_schedule_df[[\"ISO_3_CODE\", \"COUNTRYNAME\", \"WHO_REGION\"]]\n",
    "\n",
    "# Coverage / Incidence / Cases use CODE + NAME\n",
    "countries_from_others = pd.concat([\n",
    "    coverage_df[[\"CODE\", \"NAME\"]].rename(columns={\"CODE\": \"ISO_3_CODE\", \"NAME\": \"COUNTRYNAME\"}),\n",
    "    incidence_rate_df[[\"CODE\", \"NAME\"]].rename(columns={\"CODE\": \"ISO_3_CODE\", \"NAME\": \"COUNTRYNAME\"}),\n",
    "    reported_cases_df[[\"CODE\", \"NAME\"]].rename(columns={\"CODE\": \"ISO_3_CODE\", \"NAME\": \"COUNTRYNAME\"})\n",
    "])\n",
    "countries_from_others[\"WHO_REGION\"] = None  # No WHO region info in these datasets\n",
    "\n",
    "# Merge everything\n",
    "all_countries = pd.concat([countries_from_intro, countries_from_schedule, countries_from_others])\n",
    "all_countries[\"ISO_3_CODE\"] = all_countries[\"ISO_3_CODE\"].str.strip()\n",
    "all_countries[\"COUNTRYNAME\"] = all_countries[\"COUNTRYNAME\"].str.strip()\n",
    "all_countries = all_countries.drop_duplicates(subset=[\"ISO_3_CODE\"])\n",
    "\n",
    "# Insert with INSERT IGNORE\n",
    "for _, row in all_countries.iterrows():\n",
    "    cursor.execute(\"\"\"\n",
    "        INSERT IGNORE INTO dim_country (country_code, country_name, who_region)\n",
    "        VALUES (%s, %s, %s)\n",
    "    \"\"\", (row[\"ISO_3_CODE\"], row[\"COUNTRYNAME\"], row[\"WHO_REGION\"]))\n",
    "\n",
    "\n",
    "# Years (from all datasets combined)\n",
    "years = set(coverage_df[\"YEAR\"].unique()) | set(incidence_rate_df[\"YEAR\"].unique()) | \\\n",
    "        set(reported_cases_df[\"YEAR\"].unique()) | set(vaccine_introduction_df[\"YEAR\"].unique()) | \\\n",
    "        set(vaccine_schedule_df[\"YEAR\"].unique())\n",
    "for y in sorted(years):\n",
    "    cursor.execute(\"INSERT INTO dim_year (year) VALUES (%s)\", (int(y),))\n",
    "\n",
    "# Diseases\n",
    "diseases = incidence_rate_df[[\"DISEASE\", \"DISEASE_DESCRIPTION\"]].drop_duplicates()\n",
    "for _, row in diseases.iterrows():\n",
    "    cursor.execute(\n",
    "        \"INSERT INTO dim_disease (disease_code, disease_description) VALUES (%s, %s)\",\n",
    "        (row[\"DISEASE\"], row[\"DISEASE_DESCRIPTION\"])\n",
    "    )\n",
    "\n",
    "# Vaccines (from coverage and schedule)\n",
    "vaccines = pd.concat([\n",
    "    coverage_df[[\"ANTIGEN\", \"ANTIGEN_DESCRIPTION\"]].rename(\n",
    "        columns={\"ANTIGEN\": \"VACCINECODE\", \"ANTIGEN_DESCRIPTION\": \"VACCINE_DESCRIPTION\"}\n",
    "    ),\n",
    "    vaccine_schedule_df[[\"VACCINECODE\", \"VACCINE_DESCRIPTION\"]]\n",
    "])\n",
    "\n",
    "# Clean duplicates and strip whitespace\n",
    "vaccines[\"VACCINECODE\"] = vaccines[\"VACCINECODE\"].str.strip()\n",
    "vaccines[\"VACCINE_DESCRIPTION\"] = vaccines[\"VACCINE_DESCRIPTION\"].str.strip()\n",
    "vaccines = vaccines.drop_duplicates(subset=[\"VACCINECODE\"])\n",
    "\n",
    "for _, row in vaccines.iterrows():\n",
    "    cursor.execute(\"\"\"\n",
    "        INSERT IGNORE INTO dim_vaccine (vaccine_code, vaccine_description)\n",
    "        VALUES (%s, %s)\n",
    "    \"\"\", (row[\"VACCINECODE\"], row[\"VACCINE_DESCRIPTION\"]))\n",
    "\n",
    "connection.commit()\n",
    "print(\"Dimension tables populated.\")"
   ],
   "id": "89b95e300972e542",
   "outputs": [
    {
     "name": "stdout",
     "output_type": "stream",
     "text": [
      "Populating dim_country with all unique countries...\n",
      "Dimension tables populated.\n"
     ]
    }
   ],
   "execution_count": 57
  },
  {
   "metadata": {
    "ExecuteTime": {
     "end_time": "2025-09-01T16:32:10.323112Z",
     "start_time": "2025-09-01T16:32:09.636970Z"
    }
   },
   "cell_type": "code",
   "source": [
    "print(\"Preflight: syncing dimension keys required by fact tables\")\n",
    "\n",
    "# Normalize key columns in fact-source dataframes\n",
    "coverage_df[\"CODE\"] = coverage_df[\"CODE\"].astype(str).str.strip()\n",
    "coverage_df[\"ANTIGEN\"] = coverage_df[\"ANTIGEN\"].astype(str).str.strip()\n",
    "coverage_df[\"YEAR\"] = coverage_df[\"YEAR\"].astype(int)\n",
    "\n",
    "incidence_rate_df[\"CODE\"] = incidence_rate_df[\"CODE\"].astype(str).str.strip()\n",
    "incidence_rate_df[\"DISEASE\"] = incidence_rate_df[\"DISEASE\"].astype(str).str.strip()\n",
    "incidence_rate_df[\"YEAR\"] = incidence_rate_df[\"YEAR\"].astype(int)\n",
    "\n",
    "reported_cases_df[\"CODE\"] = reported_cases_df[\"CODE\"].astype(str).str.strip()\n",
    "reported_cases_df[\"DISEASE\"] = reported_cases_df[\"DISEASE\"].astype(str).str.strip()\n",
    "reported_cases_df[\"YEAR\"] = reported_cases_df[\"YEAR\"].astype(int)\n",
    "\n",
    "vaccine_introduction_df[\"ISO_3_CODE\"] = vaccine_introduction_df[\"ISO_3_CODE\"].astype(str).str.strip()\n",
    "vaccine_introduction_df[\"YEAR\"] = vaccine_introduction_df[\"YEAR\"].astype(float).round().astype(int)\n",
    "\n",
    "vaccine_schedule_df[\"ISO_3_CODE\"] = vaccine_schedule_df[\"ISO_3_CODE\"].astype(str).str.strip()\n",
    "vaccine_schedule_df[\"VACCINECODE\"] = vaccine_schedule_df[\"VACCINECODE\"].astype(str).str.strip()\n",
    "vaccine_schedule_df[\"YEAR\"] = vaccine_schedule_df[\"YEAR\"].astype(float).round().astype(int)\n",
    "\n",
    "# Replace all NaN with None globally for SQL safety\n",
    "frames = [\n",
    "    coverage_df, incidence_rate_df, reported_cases_df,\n",
    "    vaccine_introduction_df, vaccine_schedule_df\n",
    "]\n",
    "for i, df in enumerate(frames):\n",
    "    frames[i] = df.replace({np.nan: None})\n",
    "coverage_df, incidence_rate_df, reported_cases_df, vaccine_introduction_df, vaccine_schedule_df = frames\n",
    "\n",
    "# --- Sync dim_country ---\n",
    "print(\"Syncing dim_country\")\n",
    "\n",
    "all_countries = pd.concat([\n",
    "    vaccine_introduction_df[[\"ISO_3_CODE\", \"COUNTRYNAME\", \"WHO_REGION\"]],\n",
    "    vaccine_schedule_df[[\"ISO_3_CODE\", \"COUNTRYNAME\", \"WHO_REGION\"]],\n",
    "    coverage_df.rename(columns={\"CODE\": \"ISO_3_CODE\", \"NAME\": \"COUNTRYNAME\"})[[\"ISO_3_CODE\", \"COUNTRYNAME\"]],\n",
    "    incidence_rate_df.rename(columns={\"CODE\": \"ISO_3_CODE\", \"NAME\": \"COUNTRYNAME\"})[[\"ISO_3_CODE\", \"COUNTRYNAME\"]],\n",
    "    reported_cases_df.rename(columns={\"CODE\": \"ISO_3_CODE\", \"NAME\": \"COUNTRYNAME\"})[[\"ISO_3_CODE\", \"COUNTRYNAME\"]],\n",
    "], ignore_index=True)\n",
    "\n",
    "# Fill missing WHO_REGION if not present\n",
    "if \"WHO_REGION\" not in all_countries.columns:\n",
    "    all_countries[\"WHO_REGION\"] = None\n",
    "\n",
    "all_countries[\"ISO_3_CODE\"] = all_countries[\"ISO_3_CODE\"].astype(str).str.strip()\n",
    "all_countries[\"COUNTRYNAME\"] = all_countries[\"COUNTRYNAME\"].astype(str).str.strip()\n",
    "all_countries[\"WHO_REGION\"] = all_countries[\"WHO_REGION\"].astype(\"object\")\n",
    "\n",
    "# Remove duplicate country codes\n",
    "all_countries = all_countries.drop_duplicates(subset=[\"ISO_3_CODE\"])\n",
    "\n",
    "# Clean WHO_REGION values: NaN, inf → None\n",
    "def clean_null(val):\n",
    "    if pd.isna(val) or (isinstance(val, float) and (np.isnan(val) or np.isinf(val))):\n",
    "        return None\n",
    "    return str(val).strip()\n",
    "\n",
    "all_countries[\"WHO_REGION\"] = all_countries[\"WHO_REGION\"].apply(clean_null)\n",
    "\n",
    "cursor.executemany(\n",
    "    \"INSERT IGNORE INTO dim_country (country_code, country_name, who_region) VALUES (%s, %s, %s)\",\n",
    "    list(all_countries[[\"ISO_3_CODE\", \"COUNTRYNAME\", \"WHO_REGION\"]].itertuples(index=False, name=None))\n",
    ")\n",
    "\n",
    "# --- Sync dim_year ---\n",
    "print(\"Syncing dim_year\")\n",
    "\n",
    "all_years = sorted(set(coverage_df[\"YEAR\"]) |\n",
    "                   set(incidence_rate_df[\"YEAR\"]) |\n",
    "                   set(reported_cases_df[\"YEAR\"]) |\n",
    "                   set(vaccine_introduction_df[\"YEAR\"]) |\n",
    "                   set(vaccine_schedule_df[\"YEAR\"]))\n",
    "\n",
    "cursor.executemany(\n",
    "    \"INSERT IGNORE INTO dim_year (year) VALUES (%s)\",\n",
    "    [(int(y),) for y in all_years]\n",
    ")\n",
    "\n",
    "# --- Sync dim_vaccine ---\n",
    "print(\"Syncing dim_vaccine\")\n",
    "\n",
    "vacc_from_cov = coverage_df[[\"ANTIGEN\", \"ANTIGEN_DESCRIPTION\"]].rename(\n",
    "    columns={\"ANTIGEN\": \"VACCINECODE\", \"ANTIGEN_DESCRIPTION\": \"VACCINE_DESCRIPTION\"}\n",
    ")\n",
    "vacc_from_sched = vaccine_schedule_df[[\"VACCINECODE\", \"VACCINE_DESCRIPTION\"]]\n",
    "\n",
    "vaccines_all = pd.concat([vacc_from_cov, vacc_from_sched], ignore_index=True)\n",
    "vaccines_all[\"VACCINECODE\"] = vaccines_all[\"VACCINECODE\"].astype(str).str.strip()\n",
    "vaccines_all[\"VACCINE_DESCRIPTION\"] = vaccines_all[\"VACCINE_DESCRIPTION\"].astype(str).str.strip()\n",
    "vaccines_all = vaccines_all.drop_duplicates(subset=[\"VACCINECODE\"])\n",
    "\n",
    "cursor.executemany(\n",
    "    \"INSERT IGNORE INTO dim_vaccine (vaccine_code, vaccine_description) VALUES (%s, %s)\",\n",
    "    list(vaccines_all[[\"VACCINECODE\", \"VACCINE_DESCRIPTION\"]].itertuples(index=False, name=None))\n",
    ")\n",
    "\n",
    "# --- Sync dim_disease ---\n",
    "print(\"Syncing dim_disease\")\n",
    "\n",
    "dis_from_inc = incidence_rate_df[[\"DISEASE\", \"DISEASE_DESCRIPTION\"]].drop_duplicates()\n",
    "dis_from_cases = reported_cases_df[[\"DISEASE\", \"DISEASE_DESCRIPTION\"]].drop_duplicates()\n",
    "diseases_all = pd.concat([dis_from_inc, dis_from_cases], ignore_index=True)\n",
    "\n",
    "diseases_all[\"DISEASE\"] = diseases_all[\"DISEASE\"].astype(str).str.strip()\n",
    "diseases_all[\"DISEASE_DESCRIPTION\"] = diseases_all[\"DISEASE_DESCRIPTION\"].astype(str).str.strip()\n",
    "diseases_all = diseases_all.drop_duplicates(subset=[\"DISEASE\"])\n",
    "\n",
    "cursor.executemany(\n",
    "    \"INSERT IGNORE INTO dim_disease (disease_code, disease_description) VALUES (%s, %s)\",\n",
    "    list(diseases_all[[\"DISEASE\", \"DISEASE_DESCRIPTION\"]].itertuples(index=False, name=None))\n",
    ")\n",
    "\n",
    "connection.commit()\n",
    "print(\"Dimension sync complete.\")\n"
   ],
   "id": "e3b509d8effbb3fb",
   "outputs": [
    {
     "name": "stdout",
     "output_type": "stream",
     "text": [
      "Preflight: syncing dimension keys required by fact tables\n",
      "Syncing dim_country\n",
      "Syncing dim_year\n",
      "Syncing dim_vaccine\n",
      "Syncing dim_disease\n",
      "Dimension sync complete.\n"
     ]
    }
   ],
   "execution_count": 58
  },
  {
   "metadata": {
    "ExecuteTime": {
     "end_time": "2025-09-01T16:32:17.277643Z",
     "start_time": "2025-09-01T16:32:17.260642Z"
    }
   },
   "cell_type": "code",
   "source": [
    "print(\"Checking for missing country codes in dim_country...\")\n",
    "\n",
    "# Get unique country codes from dim_country\n",
    "cursor.execute(\"SELECT country_code FROM dim_country\")\n",
    "dim_country_codes = {row[0] for row in cursor.fetchall()}\n",
    "\n",
    "# Find which codes in coverage_df are missing\n",
    "missing_country_codes = set(coverage_df[\"CODE\"].unique()) - dim_country_codes\n",
    "print(f\"Missing country codes: {missing_country_codes}\")\n",
    "print(f\"Total missing: {len(missing_country_codes)}\")\n"
   ],
   "id": "2aeef2b7122408e7",
   "outputs": [
    {
     "name": "stdout",
     "output_type": "stream",
     "text": [
      "Checking for missing country codes in dim_country...\n",
      "Missing country codes: {'UNICEF_REGIONS_WCARO', 'WB_SHORT_LIC', 'UNICEF_REGIONS_LACRO', 'UNICEF_REGIONS_DEV', 'ECONOMY_IN_TRANSITION', 'WB_LONG_LIC', 'UNICEF_REGIONS_CEE_CIS', 'UNICEF_REGIONS_ROSA', 'GAVI_PHASE5_YES', 'WB_LONG_HIC_OECD', 'WB_SHORT_MIC', 'DEVELOPED_ECONOMY', 'WB_LONG_HIC_NONOECD', 'WB_SHORT_HIC', 'LEAST_DEVELOPED', 'UNICEF_REGIONS_EAPRO', 'WB_LONG_UMIC', 'UNICEF_REGIONS_MENA', 'GAVI_PHASE5_NO', 'WB_LONG_LMIC', 'UNICEF_REGIONS_ESARO'}\n",
      "Total missing: 21\n"
     ]
    }
   ],
   "execution_count": 59
  },
  {
   "metadata": {
    "ExecuteTime": {
     "end_time": "2025-09-01T16:35:04.462804Z",
     "start_time": "2025-09-01T16:32:19.080921Z"
    }
   },
   "cell_type": "code",
   "source": [
    "# Insert Data into Fact Tables\n",
    "\n",
    "print(\"Inserting data into fact tables...\")\n",
    "\n",
    "# Coverage\n",
    "print(\"Inserting into coverage\")\n",
    "\n",
    "# Remove non-country groupings from coverage_df\n",
    "non_country_codes = {\n",
    "    'UNICEF_REGIONS_WCARO', 'WB_SHORT_LIC', 'UNICEF_REGIONS_LACRO', 'UNICEF_REGIONS_DEV',\n",
    "    'ECONOMY_IN_TRANSITION', 'WB_LONG_LIC', 'UNICEF_REGIONS_CEE_CIS', 'UNICEF_REGIONS_ROSA',\n",
    "    'GAVI_PHASE5_YES', 'WB_LONG_HIC_OECD', 'WB_SHORT_MIC', 'DEVELOPED_ECONOMY',\n",
    "    'WB_LONG_HIC_NONOECD', 'WB_SHORT_HIC', 'LEAST_DEVELOPED', 'UNICEF_REGIONS_EAPRO',\n",
    "    'WB_LONG_UMIC', 'UNICEF_REGIONS_MENA', 'GAVI_PHASE5_NO', 'WB_LONG_LMIC',\n",
    "    'UNICEF_REGIONS_ESARO'\n",
    "}\n",
    "\n",
    "coverage_df = coverage_df[~coverage_df[\"CODE\"].isin(non_country_codes)]\n",
    "\n",
    "\n",
    "for _, row in coverage_df.iterrows():\n",
    "    cursor.execute(\"\"\"\n",
    "        INSERT INTO fact_coverage (country_code, year, vaccine_code, coverage_category, coverage)\n",
    "        VALUES (%s, %s, %s, %s, %s)\n",
    "    \"\"\", (row[\"CODE\"], int(row[\"YEAR\"]), row[\"ANTIGEN\"], row[\"COVERAGE_CATEGORY\"], row[\"COVERAGE\"]))\n",
    "\n",
    "# Incidence\n",
    "print(\"Inserting into incidence\")\n",
    "for _, row in incidence_rate_df.iterrows():\n",
    "    cursor.execute(\"\"\"\n",
    "        INSERT INTO fact_incidence (country_code, year, disease_code, denominator, incidence_rate)\n",
    "        VALUES (%s, %s, %s, %s, %s)\n",
    "    \"\"\", (row[\"CODE\"], int(row[\"YEAR\"]), row[\"DISEASE\"], row[\"DENOMINATOR\"], row[\"INCIDENCE_RATE\"]))\n",
    "\n",
    "# Reported Cases\n",
    "print(\"Inserting into reported cases\")\n",
    "for _, row in reported_cases_df.iterrows():\n",
    "    cursor.execute(\"\"\"\n",
    "        INSERT INTO fact_cases (country_code, year, disease_code, cases)\n",
    "        VALUES (%s, %s, %s, %s)\n",
    "    \"\"\", (row[\"CODE\"], int(row[\"YEAR\"]), row[\"DISEASE\"], row[\"CASES\"]))\n",
    "\n",
    "# Vaccine Introduction\n",
    "print(\"Inserting into vaccine introduction\")\n",
    "for _, row in vaccine_introduction_df.iterrows():\n",
    "    cursor.execute(\"\"\"\n",
    "        INSERT INTO fact_introduction (country_code, year, vaccine_description, intro_status)\n",
    "        VALUES (%s, %s, %s, %s)\n",
    "    \"\"\", (row[\"ISO_3_CODE\"], int(row[\"YEAR\"]), row[\"DESCRIPTION\"], row[\"INTRO\"]))\n",
    "\n",
    "# Vaccine Schedule\n",
    "print(\"Inserting into vaccine schedule\")\n",
    "for _, row in vaccine_schedule_df.iterrows():\n",
    "    cursor.execute(\"\"\"\n",
    "        INSERT INTO fact_schedule (country_code, year, vaccine_code, schedule_rounds, target_population, geo_area, age_administered, age_administered_months)\n",
    "        VALUES (%s, %s, %s, %s, %s, %s, %s, %s)\n",
    "    \"\"\", (row[\"ISO_3_CODE\"], int(row[\"YEAR\"]), row[\"VACCINECODE\"], row[\"SCHEDULEROUNDS\"],\n",
    "          row[\"TARGETPOP\"], row[\"GEOAREA\"], row[\"AGEADMINISTERED\"], row[\"AGEADMINISTERED_MONTHS\"]))\n",
    "\n",
    "connection.commit()\n",
    "print(\"Fact tables populated successfully.\")"
   ],
   "id": "1dc99e57a26884c0",
   "outputs": [
    {
     "name": "stdout",
     "output_type": "stream",
     "text": [
      "Inserting data into fact tables...\n",
      "Inserting into coverage\n",
      "Inserting into incidence\n",
      "Inserting into reported cases\n",
      "Inserting into vaccine introduction\n",
      "Inserting into vaccine schedule\n",
      "Fact tables populated successfully.\n"
     ]
    }
   ],
   "execution_count": 60
  },
  {
   "metadata": {
    "ExecuteTime": {
     "end_time": "2025-09-01T16:35:04.483286Z",
     "start_time": "2025-09-01T16:35:04.479808Z"
    }
   },
   "cell_type": "code",
   "source": [
    "# Close Connection\n",
    "cursor.close()\n",
    "connection.close()\n",
    "print(\"Database setup and data insertion completed successfully.\")"
   ],
   "id": "ff09013cb932654f",
   "outputs": [
    {
     "name": "stdout",
     "output_type": "stream",
     "text": [
      "Database setup and data insertion completed successfully.\n"
     ]
    }
   ],
   "execution_count": 61
  }
 ],
 "metadata": {
  "kernelspec": {
   "display_name": "Python 3",
   "language": "python",
   "name": "python3"
  },
  "language_info": {
   "codemirror_mode": {
    "name": "ipython",
    "version": 2
   },
   "file_extension": ".py",
   "mimetype": "text/x-python",
   "name": "python",
   "nbconvert_exporter": "python",
   "pygments_lexer": "ipython2",
   "version": "2.7.6"
  }
 },
 "nbformat": 4,
 "nbformat_minor": 5
}
